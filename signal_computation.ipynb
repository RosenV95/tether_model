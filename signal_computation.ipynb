{
 "cells": [
  {
   "cell_type": "markdown",
   "metadata": {},
   "source": [
    "# A capital flow treshold trading strategy for BTC"
   ]
  },
  {
   "cell_type": "markdown",
   "metadata": {},
   "source": [
    "Foreword: USDT is the main stablecoin that many cryptocurrency exchanges use to faciliate quick transactions between a tokenized US dollar and various digital coins or tokens. Many cryptocurrency exchanges require physical US dollars to be exchanged for USDT in order for trades to be conducted. The USDT team claims digitally minted USDT is backed by 1 US dollar, and the single value of an USDT Token is essentially \"tethered\" to the value of 1 US dollar.\n",
    "The logic behind this strategy is fairly simple. If there is a significant net positive change in the market capitalization of USDT, then this is an implication that there is capital primed to enter the market and vice versa. We perfrom a naive vectorized backtest of this strategy and evaluate its performance."
   ]
  },
  {
   "cell_type": "code",
   "execution_count": 1,
   "metadata": {},
   "outputs": [],
   "source": [
    "import numpy as np\n",
    "import pandas as pd\n",
    "import matplotlib.pyplot as plt\n"
   ]
  },
  {
   "cell_type": "markdown",
   "metadata": {},
   "source": [
    "### Import BTC OHLCV, along with USDT Marketcap and volume data, drop irrelevant columns."
   ]
  },
  {
   "cell_type": "code",
   "execution_count": 2,
   "metadata": {},
   "outputs": [],
   "source": [
    "df=pd.read_csv('fulldata.csv')"
   ]
  },
  {
   "cell_type": "code",
   "execution_count": 3,
   "metadata": {},
   "outputs": [],
   "source": [
    "df.drop(['Unnamed: 0'], axis=1, inplace=True)"
   ]
  },
  {
   "cell_type": "code",
   "execution_count": 4,
   "metadata": {},
   "outputs": [],
   "source": [
    "df.dropna(inplace=True)"
   ]
  },
  {
   "cell_type": "code",
   "execution_count": 5,
   "metadata": {},
   "outputs": [],
   "source": [
    "df.set_index('Date', inplace=True)"
   ]
  },
  {
   "cell_type": "code",
   "execution_count": 6,
   "metadata": {},
   "outputs": [
    {
     "data": {
      "text/html": [
       "<div>\n",
       "<style scoped>\n",
       "    .dataframe tbody tr th:only-of-type {\n",
       "        vertical-align: middle;\n",
       "    }\n",
       "\n",
       "    .dataframe tbody tr th {\n",
       "        vertical-align: top;\n",
       "    }\n",
       "\n",
       "    .dataframe thead th {\n",
       "        text-align: right;\n",
       "    }\n",
       "</style>\n",
       "<table border=\"1\" class=\"dataframe\">\n",
       "  <thead>\n",
       "    <tr style=\"text-align: right;\">\n",
       "      <th></th>\n",
       "      <th>Open</th>\n",
       "      <th>High</th>\n",
       "      <th>Low</th>\n",
       "      <th>Close</th>\n",
       "      <th>Adj Close</th>\n",
       "      <th>Volume</th>\n",
       "      <th>USDT Marketcap</th>\n",
       "      <th>USDT Volume</th>\n",
       "      <th>USDT Change</th>\n",
       "    </tr>\n",
       "    <tr>\n",
       "      <th>Date</th>\n",
       "      <th></th>\n",
       "      <th></th>\n",
       "      <th></th>\n",
       "      <th></th>\n",
       "      <th></th>\n",
       "      <th></th>\n",
       "      <th></th>\n",
       "      <th></th>\n",
       "      <th></th>\n",
       "    </tr>\n",
       "  </thead>\n",
       "  <tbody>\n",
       "    <tr>\n",
       "      <th>2015-06-28</th>\n",
       "      <td>250.96</td>\n",
       "      <td>251.17</td>\n",
       "      <td>247.43</td>\n",
       "      <td>249.01</td>\n",
       "      <td>249.01</td>\n",
       "      <td>15137600</td>\n",
       "      <td>451600</td>\n",
       "      <td>1353</td>\n",
       "      <td>0.000000</td>\n",
       "    </tr>\n",
       "    <tr>\n",
       "      <th>2015-06-29</th>\n",
       "      <td>248.72</td>\n",
       "      <td>257.17</td>\n",
       "      <td>248.58</td>\n",
       "      <td>257.06</td>\n",
       "      <td>257.06</td>\n",
       "      <td>34742900</td>\n",
       "      <td>451600</td>\n",
       "      <td>240065</td>\n",
       "      <td>0.000000</td>\n",
       "    </tr>\n",
       "    <tr>\n",
       "      <th>2015-06-30</th>\n",
       "      <td>257.04</td>\n",
       "      <td>267.87</td>\n",
       "      <td>255.95</td>\n",
       "      <td>263.07</td>\n",
       "      <td>263.07</td>\n",
       "      <td>44533800</td>\n",
       "      <td>451600</td>\n",
       "      <td>226186</td>\n",
       "      <td>0.000000</td>\n",
       "    </tr>\n",
       "    <tr>\n",
       "      <th>2015-07-01</th>\n",
       "      <td>263.35</td>\n",
       "      <td>265.17</td>\n",
       "      <td>255.77</td>\n",
       "      <td>258.62</td>\n",
       "      <td>258.62</td>\n",
       "      <td>27029800</td>\n",
       "      <td>451600</td>\n",
       "      <td>7802</td>\n",
       "      <td>0.000000</td>\n",
       "    </tr>\n",
       "    <tr>\n",
       "      <th>2015-07-02</th>\n",
       "      <td>258.55</td>\n",
       "      <td>261.63</td>\n",
       "      <td>254.12</td>\n",
       "      <td>255.41</td>\n",
       "      <td>255.41</td>\n",
       "      <td>21551900</td>\n",
       "      <td>451600</td>\n",
       "      <td>33422</td>\n",
       "      <td>0.000000</td>\n",
       "    </tr>\n",
       "    <tr>\n",
       "      <th>...</th>\n",
       "      <td>...</td>\n",
       "      <td>...</td>\n",
       "      <td>...</td>\n",
       "      <td>...</td>\n",
       "      <td>...</td>\n",
       "      <td>...</td>\n",
       "      <td>...</td>\n",
       "      <td>...</td>\n",
       "      <td>...</td>\n",
       "    </tr>\n",
       "    <tr>\n",
       "      <th>2022-01-30</th>\n",
       "      <td>38151.92</td>\n",
       "      <td>38266.34</td>\n",
       "      <td>37437.71</td>\n",
       "      <td>37917.60</td>\n",
       "      <td>37917.60</td>\n",
       "      <td>14643548444</td>\n",
       "      <td>78198382292</td>\n",
       "      <td>30309259657</td>\n",
       "      <td>-0.002150</td>\n",
       "    </tr>\n",
       "    <tr>\n",
       "      <th>2022-01-31</th>\n",
       "      <td>37920.28</td>\n",
       "      <td>38647.26</td>\n",
       "      <td>36733.57</td>\n",
       "      <td>38483.13</td>\n",
       "      <td>38483.13</td>\n",
       "      <td>20734730465</td>\n",
       "      <td>78062781790</td>\n",
       "      <td>37880065303</td>\n",
       "      <td>-0.001734</td>\n",
       "    </tr>\n",
       "    <tr>\n",
       "      <th>2022-02-01</th>\n",
       "      <td>38481.77</td>\n",
       "      <td>39115.13</td>\n",
       "      <td>38113.66</td>\n",
       "      <td>38743.27</td>\n",
       "      <td>38743.27</td>\n",
       "      <td>20288500328</td>\n",
       "      <td>78016936424</td>\n",
       "      <td>36738926224</td>\n",
       "      <td>-0.000587</td>\n",
       "    </tr>\n",
       "    <tr>\n",
       "      <th>2022-02-02</th>\n",
       "      <td>38743.71</td>\n",
       "      <td>38834.62</td>\n",
       "      <td>36832.73</td>\n",
       "      <td>36952.98</td>\n",
       "      <td>36952.98</td>\n",
       "      <td>19155189416</td>\n",
       "      <td>78038075903</td>\n",
       "      <td>38064751930</td>\n",
       "      <td>0.000271</td>\n",
       "    </tr>\n",
       "    <tr>\n",
       "      <th>2022-02-03</th>\n",
       "      <td>36944.80</td>\n",
       "      <td>37154.60</td>\n",
       "      <td>36375.54</td>\n",
       "      <td>37154.60</td>\n",
       "      <td>37154.60</td>\n",
       "      <td>18591534769</td>\n",
       "      <td>78064010105</td>\n",
       "      <td>36776101831</td>\n",
       "      <td>0.000332</td>\n",
       "    </tr>\n",
       "  </tbody>\n",
       "</table>\n",
       "<p>2413 rows × 9 columns</p>\n",
       "</div>"
      ],
      "text/plain": [
       "                Open      High       Low     Close  Adj Close       Volume  \\\n",
       "Date                                                                         \n",
       "2015-06-28    250.96    251.17    247.43    249.01     249.01     15137600   \n",
       "2015-06-29    248.72    257.17    248.58    257.06     257.06     34742900   \n",
       "2015-06-30    257.04    267.87    255.95    263.07     263.07     44533800   \n",
       "2015-07-01    263.35    265.17    255.77    258.62     258.62     27029800   \n",
       "2015-07-02    258.55    261.63    254.12    255.41     255.41     21551900   \n",
       "...              ...       ...       ...       ...        ...          ...   \n",
       "2022-01-30  38151.92  38266.34  37437.71  37917.60   37917.60  14643548444   \n",
       "2022-01-31  37920.28  38647.26  36733.57  38483.13   38483.13  20734730465   \n",
       "2022-02-01  38481.77  39115.13  38113.66  38743.27   38743.27  20288500328   \n",
       "2022-02-02  38743.71  38834.62  36832.73  36952.98   36952.98  19155189416   \n",
       "2022-02-03  36944.80  37154.60  36375.54  37154.60   37154.60  18591534769   \n",
       "\n",
       "            USDT Marketcap  USDT Volume  USDT Change  \n",
       "Date                                                  \n",
       "2015-06-28          451600         1353     0.000000  \n",
       "2015-06-29          451600       240065     0.000000  \n",
       "2015-06-30          451600       226186     0.000000  \n",
       "2015-07-01          451600         7802     0.000000  \n",
       "2015-07-02          451600        33422     0.000000  \n",
       "...                    ...          ...          ...  \n",
       "2022-01-30     78198382292  30309259657    -0.002150  \n",
       "2022-01-31     78062781790  37880065303    -0.001734  \n",
       "2022-02-01     78016936424  36738926224    -0.000587  \n",
       "2022-02-02     78038075903  38064751930     0.000271  \n",
       "2022-02-03     78064010105  36776101831     0.000332  \n",
       "\n",
       "[2413 rows x 9 columns]"
      ]
     },
     "execution_count": 6,
     "metadata": {},
     "output_type": "execute_result"
    }
   ],
   "source": [
    "df"
   ]
  },
  {
   "cell_type": "code",
   "execution_count": 7,
   "metadata": {},
   "outputs": [],
   "source": [
    "dfnn=df.copy()"
   ]
  },
  {
   "cell_type": "code",
   "execution_count": 8,
   "metadata": {},
   "outputs": [
    {
     "data": {
      "text/plain": [
       "<AxesSubplot:xlabel='Date'>"
      ]
     },
     "execution_count": 8,
     "metadata": {},
     "output_type": "execute_result"
    },
    {
     "data": {
      "image/png": "[encoded data removed]",
      "text/plain": [
       "<Figure size 1152x432 with 1 Axes>"
      ]
     },
     "metadata": {
      "needs_background": "light"
     },
     "output_type": "display_data"
    }
   ],
   "source": [
    "df['Adj Close'].plot(figsize=(16,6))"
   ]
  },
  {
   "cell_type": "markdown",
   "metadata": {},
   "source": [
    "Check the 24h change of the marketcap of USDT"
   ]
  },
  {
   "cell_type": "code",
   "execution_count": 9,
   "metadata": {},
   "outputs": [
    {
     "data": {
      "text/plain": [
       "<AxesSubplot:xlabel='Date'>"
      ]
     },
     "execution_count": 9,
     "metadata": {},
     "output_type": "execute_result"
    },
    {
     "data": {
      "image/png": "[encoded data removed]",
      "text/plain": [
       "<Figure size 1152x432 with 1 Axes>"
      ]
     },
     "metadata": {
      "needs_background": "light"
     },
     "output_type": "display_data"
    }
   ],
   "source": [
    "df['USDT Change'].plot(figsize=(16,6))"
   ]
  },
  {
   "cell_type": "markdown",
   "metadata": {},
   "source": [
    "## Define the threshold and rule-based approach for the strategy"
   ]
  },
  {
   "cell_type": "markdown",
   "metadata": {},
   "source": [
    "A simplistic rule-based approach is defined. We take the rolling median of the last 5 observation of the net USDT marketcap change and given a treshold variable, we execute a long position(1) if there is a positive change above the treshold and a short position(-1) if there is a negative change below the same respective threshold. We remain neutral(0) should neither of these instances occur."
   ]
  },
  {
   "cell_type": "code",
   "execution_count": 10,
   "metadata": {},
   "outputs": [],
   "source": [
    "threshold=0.005"
   ]
  },
  {
   "cell_type": "code",
   "execution_count": 11,
   "metadata": {},
   "outputs": [],
   "source": [
    "df['Signal'] = np.where(df['USDT Change'].rolling(5).median() <= -threshold,\n",
    "                                       -1, np.nan)\n",
    "df['Signal'] = np.where(df['USDT Change'].rolling(5).median() >= threshold,\n",
    "                                       1, df['Signal'])"
   ]
  },
  {
   "cell_type": "code",
   "execution_count": 12,
   "metadata": {},
   "outputs": [],
   "source": [
    "df['Signal'] = np.where(df['USDT Change'] *\n",
    "                     df['USDT Change'].shift(1) < 0, 0, df['Signal'])"
   ]
  },
  {
   "cell_type": "code",
   "execution_count": 13,
   "metadata": {},
   "outputs": [],
   "source": [
    "df['Signal'] = df['Signal'].ffill().fillna(0)"
   ]
  },
  {
   "cell_type": "code",
   "execution_count": 14,
   "metadata": {},
   "outputs": [
    {
     "data": {
      "text/plain": [
       " 0.0    2165\n",
       " 1.0     234\n",
       "-1.0      14\n",
       "Name: Signal, dtype: int64"
      ]
     },
     "execution_count": 14,
     "metadata": {},
     "output_type": "execute_result"
    }
   ],
   "source": [
    "df['Signal'].value_counts()"
   ]
  },
  {
   "cell_type": "markdown",
   "metadata": {},
   "source": [
    "Visualize positions"
   ]
  },
  {
   "cell_type": "code",
   "execution_count": 15,
   "metadata": {},
   "outputs": [
    {
     "data": {
      "text/plain": [
       "<AxesSubplot:title={'center':'Market Positioning'}, xlabel='Date'>"
      ]
     },
     "execution_count": 15,
     "metadata": {},
     "output_type": "execute_result"
    },
    {
     "data": {
      "image/png": "[encoded data removed]",
      "text/plain": [
       "<Figure size 1152x432 with 1 Axes>"
      ]
     },
     "metadata": {
      "needs_background": "light"
     },
     "output_type": "display_data"
    }
   ],
   "source": [
    "df['Signal'].plot(ylim=[-1.1, 1.1],\n",
    "                               title='Market Positioning',\n",
    "                               figsize=(16, 6))"
   ]
  },
  {
   "cell_type": "markdown",
   "metadata": {},
   "source": [
    "### Calculate LOG returns"
   ]
  },
  {
   "cell_type": "code",
   "execution_count": 16,
   "metadata": {},
   "outputs": [],
   "source": [
    "df['Returns'] = np.log(df['Adj Close'] / df['Adj Close'].shift(1))"
   ]
  },
  {
   "cell_type": "code",
   "execution_count": 17,
   "metadata": {},
   "outputs": [
    {
     "data": {
      "text/html": [
       "<div>\n",
       "<style scoped>\n",
       "    .dataframe tbody tr th:only-of-type {\n",
       "        vertical-align: middle;\n",
       "    }\n",
       "\n",
       "    .dataframe tbody tr th {\n",
       "        vertical-align: top;\n",
       "    }\n",
       "\n",
       "    .dataframe thead th {\n",
       "        text-align: right;\n",
       "    }\n",
       "</style>\n",
       "<table border=\"1\" class=\"dataframe\">\n",
       "  <thead>\n",
       "    <tr style=\"text-align: right;\">\n",
       "      <th></th>\n",
       "      <th>Open</th>\n",
       "      <th>High</th>\n",
       "      <th>Low</th>\n",
       "      <th>Close</th>\n",
       "      <th>Adj Close</th>\n",
       "      <th>Volume</th>\n",
       "      <th>USDT Marketcap</th>\n",
       "      <th>USDT Volume</th>\n",
       "      <th>USDT Change</th>\n",
       "      <th>Signal</th>\n",
       "      <th>Returns</th>\n",
       "    </tr>\n",
       "    <tr>\n",
       "      <th>Date</th>\n",
       "      <th></th>\n",
       "      <th></th>\n",
       "      <th></th>\n",
       "      <th></th>\n",
       "      <th></th>\n",
       "      <th></th>\n",
       "      <th></th>\n",
       "      <th></th>\n",
       "      <th></th>\n",
       "      <th></th>\n",
       "      <th></th>\n",
       "    </tr>\n",
       "  </thead>\n",
       "  <tbody>\n",
       "    <tr>\n",
       "      <th>2015-06-28</th>\n",
       "      <td>250.96</td>\n",
       "      <td>251.17</td>\n",
       "      <td>247.43</td>\n",
       "      <td>249.01</td>\n",
       "      <td>249.01</td>\n",
       "      <td>15137600</td>\n",
       "      <td>451600</td>\n",
       "      <td>1353</td>\n",
       "      <td>0.000000</td>\n",
       "      <td>0.0</td>\n",
       "      <td>NaN</td>\n",
       "    </tr>\n",
       "    <tr>\n",
       "      <th>2015-06-29</th>\n",
       "      <td>248.72</td>\n",
       "      <td>257.17</td>\n",
       "      <td>248.58</td>\n",
       "      <td>257.06</td>\n",
       "      <td>257.06</td>\n",
       "      <td>34742900</td>\n",
       "      <td>451600</td>\n",
       "      <td>240065</td>\n",
       "      <td>0.000000</td>\n",
       "      <td>0.0</td>\n",
       "      <td>0.031816</td>\n",
       "    </tr>\n",
       "    <tr>\n",
       "      <th>2015-06-30</th>\n",
       "      <td>257.04</td>\n",
       "      <td>267.87</td>\n",
       "      <td>255.95</td>\n",
       "      <td>263.07</td>\n",
       "      <td>263.07</td>\n",
       "      <td>44533800</td>\n",
       "      <td>451600</td>\n",
       "      <td>226186</td>\n",
       "      <td>0.000000</td>\n",
       "      <td>0.0</td>\n",
       "      <td>0.023111</td>\n",
       "    </tr>\n",
       "    <tr>\n",
       "      <th>2015-07-01</th>\n",
       "      <td>263.35</td>\n",
       "      <td>265.17</td>\n",
       "      <td>255.77</td>\n",
       "      <td>258.62</td>\n",
       "      <td>258.62</td>\n",
       "      <td>27029800</td>\n",
       "      <td>451600</td>\n",
       "      <td>7802</td>\n",
       "      <td>0.000000</td>\n",
       "      <td>0.0</td>\n",
       "      <td>-0.017060</td>\n",
       "    </tr>\n",
       "    <tr>\n",
       "      <th>2015-07-02</th>\n",
       "      <td>258.55</td>\n",
       "      <td>261.63</td>\n",
       "      <td>254.12</td>\n",
       "      <td>255.41</td>\n",
       "      <td>255.41</td>\n",
       "      <td>21551900</td>\n",
       "      <td>451600</td>\n",
       "      <td>33422</td>\n",
       "      <td>0.000000</td>\n",
       "      <td>0.0</td>\n",
       "      <td>-0.012490</td>\n",
       "    </tr>\n",
       "    <tr>\n",
       "      <th>...</th>\n",
       "      <td>...</td>\n",
       "      <td>...</td>\n",
       "      <td>...</td>\n",
       "      <td>...</td>\n",
       "      <td>...</td>\n",
       "      <td>...</td>\n",
       "      <td>...</td>\n",
       "      <td>...</td>\n",
       "      <td>...</td>\n",
       "      <td>...</td>\n",
       "      <td>...</td>\n",
       "    </tr>\n",
       "    <tr>\n",
       "      <th>2022-01-30</th>\n",
       "      <td>38151.92</td>\n",
       "      <td>38266.34</td>\n",
       "      <td>37437.71</td>\n",
       "      <td>37917.60</td>\n",
       "      <td>37917.60</td>\n",
       "      <td>14643548444</td>\n",
       "      <td>78198382292</td>\n",
       "      <td>30309259657</td>\n",
       "      <td>-0.002150</td>\n",
       "      <td>0.0</td>\n",
       "      <td>-0.005800</td>\n",
       "    </tr>\n",
       "    <tr>\n",
       "      <th>2022-01-31</th>\n",
       "      <td>37920.28</td>\n",
       "      <td>38647.26</td>\n",
       "      <td>36733.57</td>\n",
       "      <td>38483.13</td>\n",
       "      <td>38483.13</td>\n",
       "      <td>20734730465</td>\n",
       "      <td>78062781790</td>\n",
       "      <td>37880065303</td>\n",
       "      <td>-0.001734</td>\n",
       "      <td>0.0</td>\n",
       "      <td>0.014805</td>\n",
       "    </tr>\n",
       "    <tr>\n",
       "      <th>2022-02-01</th>\n",
       "      <td>38481.77</td>\n",
       "      <td>39115.13</td>\n",
       "      <td>38113.66</td>\n",
       "      <td>38743.27</td>\n",
       "      <td>38743.27</td>\n",
       "      <td>20288500328</td>\n",
       "      <td>78016936424</td>\n",
       "      <td>36738926224</td>\n",
       "      <td>-0.000587</td>\n",
       "      <td>0.0</td>\n",
       "      <td>0.006737</td>\n",
       "    </tr>\n",
       "    <tr>\n",
       "      <th>2022-02-02</th>\n",
       "      <td>38743.71</td>\n",
       "      <td>38834.62</td>\n",
       "      <td>36832.73</td>\n",
       "      <td>36952.98</td>\n",
       "      <td>36952.98</td>\n",
       "      <td>19155189416</td>\n",
       "      <td>78038075903</td>\n",
       "      <td>38064751930</td>\n",
       "      <td>0.000271</td>\n",
       "      <td>0.0</td>\n",
       "      <td>-0.047311</td>\n",
       "    </tr>\n",
       "    <tr>\n",
       "      <th>2022-02-03</th>\n",
       "      <td>36944.80</td>\n",
       "      <td>37154.60</td>\n",
       "      <td>36375.54</td>\n",
       "      <td>37154.60</td>\n",
       "      <td>37154.60</td>\n",
       "      <td>18591534769</td>\n",
       "      <td>78064010105</td>\n",
       "      <td>36776101831</td>\n",
       "      <td>0.000332</td>\n",
       "      <td>0.0</td>\n",
       "      <td>0.005441</td>\n",
       "    </tr>\n",
       "  </tbody>\n",
       "</table>\n",
       "<p>2413 rows × 11 columns</p>\n",
       "</div>"
      ],
      "text/plain": [
       "                Open      High       Low     Close  Adj Close       Volume  \\\n",
       "Date                                                                         \n",
       "2015-06-28    250.96    251.17    247.43    249.01     249.01     15137600   \n",
       "2015-06-29    248.72    257.17    248.58    257.06     257.06     34742900   \n",
       "2015-06-30    257.04    267.87    255.95    263.07     263.07     44533800   \n",
       "2015-07-01    263.35    265.17    255.77    258.62     258.62     27029800   \n",
       "2015-07-02    258.55    261.63    254.12    255.41     255.41     21551900   \n",
       "...              ...       ...       ...       ...        ...          ...   \n",
       "2022-01-30  38151.92  38266.34  37437.71  37917.60   37917.60  14643548444   \n",
       "2022-01-31  37920.28  38647.26  36733.57  38483.13   38483.13  20734730465   \n",
       "2022-02-01  38481.77  39115.13  38113.66  38743.27   38743.27  20288500328   \n",
       "2022-02-02  38743.71  38834.62  36832.73  36952.98   36952.98  19155189416   \n",
       "2022-02-03  36944.80  37154.60  36375.54  37154.60   37154.60  18591534769   \n",
       "\n",
       "            USDT Marketcap  USDT Volume  USDT Change  Signal   Returns  \n",
       "Date                                                                    \n",
       "2015-06-28          451600         1353     0.000000     0.0       NaN  \n",
       "2015-06-29          451600       240065     0.000000     0.0  0.031816  \n",
       "2015-06-30          451600       226186     0.000000     0.0  0.023111  \n",
       "2015-07-01          451600         7802     0.000000     0.0 -0.017060  \n",
       "2015-07-02          451600        33422     0.000000     0.0 -0.012490  \n",
       "...                    ...          ...          ...     ...       ...  \n",
       "2022-01-30     78198382292  30309259657    -0.002150     0.0 -0.005800  \n",
       "2022-01-31     78062781790  37880065303    -0.001734     0.0  0.014805  \n",
       "2022-02-01     78016936424  36738926224    -0.000587     0.0  0.006737  \n",
       "2022-02-02     78038075903  38064751930     0.000271     0.0 -0.047311  \n",
       "2022-02-03     78064010105  36776101831     0.000332     0.0  0.005441  \n",
       "\n",
       "[2413 rows x 11 columns]"
      ]
     },
     "execution_count": 17,
     "metadata": {},
     "output_type": "execute_result"
    }
   ],
   "source": [
    "df"
   ]
  },
  {
   "cell_type": "markdown",
   "metadata": {},
   "source": [
    "### Check the frequency distribution of the log returns"
   ]
  },
  {
   "cell_type": "code",
   "execution_count": 18,
   "metadata": {},
   "outputs": [
    {
     "data": {
      "image/png": "[encoded data removed]",
      "text/plain": [
       "<Figure size 720x432 with 1 Axes>"
      ]
     },
     "metadata": {
      "needs_background": "light"
     },
     "output_type": "display_data"
    }
   ],
   "source": [
    "df['Returns'].hist(bins=35, figsize=(10, 6));"
   ]
  },
  {
   "cell_type": "code",
   "execution_count": 19,
   "metadata": {},
   "outputs": [],
   "source": [
    "df['Strategy'] = df['Signal'].shift(1) * df['Returns']"
   ]
  },
  {
   "cell_type": "code",
   "execution_count": 20,
   "metadata": {},
   "outputs": [
    {
     "data": {
      "text/plain": [
       "1.6174601514281606"
      ]
     },
     "execution_count": 20,
     "metadata": {},
     "output_type": "execute_result"
    }
   ],
   "source": [
    "df['Strategy'].sum()"
   ]
  },
  {
   "cell_type": "markdown",
   "metadata": {},
   "source": [
    "### Apply exponential function to the sum of log returns to calculate gross performance of signal."
   ]
  },
  {
   "cell_type": "code",
   "execution_count": 21,
   "metadata": {},
   "outputs": [
    {
     "data": {
      "text/plain": [
       "Strategy    5.040273\n",
       "dtype: float64"
      ]
     },
     "execution_count": 21,
     "metadata": {},
     "output_type": "execute_result"
    }
   ],
   "source": [
    "df[['Strategy']].sum().apply(np.exp)"
   ]
  },
  {
   "cell_type": "code",
   "execution_count": 22,
   "metadata": {},
   "outputs": [],
   "source": [
    "#new_df[['Returns', 'Strategy']].cumsum().apply(np.exp).plot(figsize=(10, 6));"
   ]
  },
  {
   "cell_type": "markdown",
   "metadata": {},
   "source": [
    "### Plot gross performance"
   ]
  },
  {
   "cell_type": "code",
   "execution_count": 23,
   "metadata": {},
   "outputs": [
    {
     "data": {
      "image/png": "[encoded data removed]",
      "text/plain": [
       "<Figure size 1152x432 with 1 Axes>"
      ]
     },
     "metadata": {
      "needs_background": "light"
     },
     "output_type": "display_data"
    }
   ],
   "source": [
    "df['Strategy'].cumsum().apply(np.exp).plot(figsize=(16, 6));"
   ]
  },
  {
   "cell_type": "markdown",
   "metadata": {},
   "source": [
    "### Define new columns which show the gross return along with the max return"
   ]
  },
  {
   "cell_type": "code",
   "execution_count": 24,
   "metadata": {},
   "outputs": [
    {
     "data": {
      "text/plain": [
       "<AxesSubplot:xlabel='Date'>"
      ]
     },
     "execution_count": 24,
     "metadata": {},
     "output_type": "execute_result"
    },
    {
     "data": {
      "image/png": "[encoded data removed]",
      "text/plain": [
       "<Figure size 1152x432 with 1 Axes>"
      ]
     },
     "metadata": {
      "needs_background": "light"
     },
     "output_type": "display_data"
    }
   ],
   "source": [
    "df['cumret'] = df['Strategy'].cumsum().apply(np.exp)\n",
    "\n",
    "df['cummax'] = df['cumret'].cummax()\n",
    "\n",
    "df[['cumret', 'cummax']].dropna().plot(figsize=(16, 6))"
   ]
  },
  {
   "cell_type": "code",
   "execution_count": 25,
   "metadata": {},
   "outputs": [],
   "source": [
    "drawdown = df['cummax'] - df['cumret']"
   ]
  },
  {
   "cell_type": "code",
   "execution_count": 26,
   "metadata": {},
   "outputs": [
    {
     "data": {
      "text/plain": [
       "<AxesSubplot:xlabel='Date'>"
      ]
     },
     "execution_count": 26,
     "metadata": {},
     "output_type": "execute_result"
    },
    {
     "data": {
      "image/png": "[encoded data removed]",
      "text/plain": [
       "<Figure size 1152x432 with 1 Axes>"
      ]
     },
     "metadata": {
      "needs_background": "light"
     },
     "output_type": "display_data"
    }
   ],
   "source": [
    "drawdown.plot(figsize=(16,6))"
   ]
  },
  {
   "cell_type": "code",
   "execution_count": 27,
   "metadata": {},
   "outputs": [
    {
     "data": {
      "text/html": [
       "<div>\n",
       "<style scoped>\n",
       "    .dataframe tbody tr th:only-of-type {\n",
       "        vertical-align: middle;\n",
       "    }\n",
       "\n",
       "    .dataframe tbody tr th {\n",
       "        vertical-align: top;\n",
       "    }\n",
       "\n",
       "    .dataframe thead th {\n",
       "        text-align: right;\n",
       "    }\n",
       "</style>\n",
       "<table border=\"1\" class=\"dataframe\">\n",
       "  <thead>\n",
       "    <tr style=\"text-align: right;\">\n",
       "      <th></th>\n",
       "      <th>Open</th>\n",
       "      <th>High</th>\n",
       "      <th>Low</th>\n",
       "      <th>Close</th>\n",
       "      <th>Adj Close</th>\n",
       "      <th>Volume</th>\n",
       "      <th>USDT Marketcap</th>\n",
       "      <th>USDT Volume</th>\n",
       "      <th>USDT Change</th>\n",
       "      <th>Signal</th>\n",
       "      <th>Returns</th>\n",
       "      <th>Strategy</th>\n",
       "      <th>cumret</th>\n",
       "      <th>cummax</th>\n",
       "    </tr>\n",
       "    <tr>\n",
       "      <th>Date</th>\n",
       "      <th></th>\n",
       "      <th></th>\n",
       "      <th></th>\n",
       "      <th></th>\n",
       "      <th></th>\n",
       "      <th></th>\n",
       "      <th></th>\n",
       "      <th></th>\n",
       "      <th></th>\n",
       "      <th></th>\n",
       "      <th></th>\n",
       "      <th></th>\n",
       "      <th></th>\n",
       "      <th></th>\n",
       "    </tr>\n",
       "  </thead>\n",
       "  <tbody>\n",
       "    <tr>\n",
       "      <th>2015-06-28</th>\n",
       "      <td>250.96</td>\n",
       "      <td>251.17</td>\n",
       "      <td>247.43</td>\n",
       "      <td>249.01</td>\n",
       "      <td>249.01</td>\n",
       "      <td>15137600</td>\n",
       "      <td>451600</td>\n",
       "      <td>1353</td>\n",
       "      <td>0.000000</td>\n",
       "      <td>0.0</td>\n",
       "      <td>NaN</td>\n",
       "      <td>NaN</td>\n",
       "      <td>NaN</td>\n",
       "      <td>NaN</td>\n",
       "    </tr>\n",
       "    <tr>\n",
       "      <th>2015-06-29</th>\n",
       "      <td>248.72</td>\n",
       "      <td>257.17</td>\n",
       "      <td>248.58</td>\n",
       "      <td>257.06</td>\n",
       "      <td>257.06</td>\n",
       "      <td>34742900</td>\n",
       "      <td>451600</td>\n",
       "      <td>240065</td>\n",
       "      <td>0.000000</td>\n",
       "      <td>0.0</td>\n",
       "      <td>0.031816</td>\n",
       "      <td>0.0</td>\n",
       "      <td>1.000000</td>\n",
       "      <td>1.000000</td>\n",
       "    </tr>\n",
       "    <tr>\n",
       "      <th>2015-06-30</th>\n",
       "      <td>257.04</td>\n",
       "      <td>267.87</td>\n",
       "      <td>255.95</td>\n",
       "      <td>263.07</td>\n",
       "      <td>263.07</td>\n",
       "      <td>44533800</td>\n",
       "      <td>451600</td>\n",
       "      <td>226186</td>\n",
       "      <td>0.000000</td>\n",
       "      <td>0.0</td>\n",
       "      <td>0.023111</td>\n",
       "      <td>0.0</td>\n",
       "      <td>1.000000</td>\n",
       "      <td>1.000000</td>\n",
       "    </tr>\n",
       "    <tr>\n",
       "      <th>2015-07-01</th>\n",
       "      <td>263.35</td>\n",
       "      <td>265.17</td>\n",
       "      <td>255.77</td>\n",
       "      <td>258.62</td>\n",
       "      <td>258.62</td>\n",
       "      <td>27029800</td>\n",
       "      <td>451600</td>\n",
       "      <td>7802</td>\n",
       "      <td>0.000000</td>\n",
       "      <td>0.0</td>\n",
       "      <td>-0.017060</td>\n",
       "      <td>-0.0</td>\n",
       "      <td>1.000000</td>\n",
       "      <td>1.000000</td>\n",
       "    </tr>\n",
       "    <tr>\n",
       "      <th>2015-07-02</th>\n",
       "      <td>258.55</td>\n",
       "      <td>261.63</td>\n",
       "      <td>254.12</td>\n",
       "      <td>255.41</td>\n",
       "      <td>255.41</td>\n",
       "      <td>21551900</td>\n",
       "      <td>451600</td>\n",
       "      <td>33422</td>\n",
       "      <td>0.000000</td>\n",
       "      <td>0.0</td>\n",
       "      <td>-0.012490</td>\n",
       "      <td>-0.0</td>\n",
       "      <td>1.000000</td>\n",
       "      <td>1.000000</td>\n",
       "    </tr>\n",
       "    <tr>\n",
       "      <th>...</th>\n",
       "      <td>...</td>\n",
       "      <td>...</td>\n",
       "      <td>...</td>\n",
       "      <td>...</td>\n",
       "      <td>...</td>\n",
       "      <td>...</td>\n",
       "      <td>...</td>\n",
       "      <td>...</td>\n",
       "      <td>...</td>\n",
       "      <td>...</td>\n",
       "      <td>...</td>\n",
       "      <td>...</td>\n",
       "      <td>...</td>\n",
       "      <td>...</td>\n",
       "    </tr>\n",
       "    <tr>\n",
       "      <th>2022-01-30</th>\n",
       "      <td>38151.92</td>\n",
       "      <td>38266.34</td>\n",
       "      <td>37437.71</td>\n",
       "      <td>37917.60</td>\n",
       "      <td>37917.60</td>\n",
       "      <td>14643548444</td>\n",
       "      <td>78198382292</td>\n",
       "      <td>30309259657</td>\n",
       "      <td>-0.002150</td>\n",
       "      <td>0.0</td>\n",
       "      <td>-0.005800</td>\n",
       "      <td>-0.0</td>\n",
       "      <td>5.040273</td>\n",
       "      <td>9.413738</td>\n",
       "    </tr>\n",
       "    <tr>\n",
       "      <th>2022-01-31</th>\n",
       "      <td>37920.28</td>\n",
       "      <td>38647.26</td>\n",
       "      <td>36733.57</td>\n",
       "      <td>38483.13</td>\n",
       "      <td>38483.13</td>\n",
       "      <td>20734730465</td>\n",
       "      <td>78062781790</td>\n",
       "      <td>37880065303</td>\n",
       "      <td>-0.001734</td>\n",
       "      <td>0.0</td>\n",
       "      <td>0.014805</td>\n",
       "      <td>0.0</td>\n",
       "      <td>5.040273</td>\n",
       "      <td>9.413738</td>\n",
       "    </tr>\n",
       "    <tr>\n",
       "      <th>2022-02-01</th>\n",
       "      <td>38481.77</td>\n",
       "      <td>39115.13</td>\n",
       "      <td>38113.66</td>\n",
       "      <td>38743.27</td>\n",
       "      <td>38743.27</td>\n",
       "      <td>20288500328</td>\n",
       "      <td>78016936424</td>\n",
       "      <td>36738926224</td>\n",
       "      <td>-0.000587</td>\n",
       "      <td>0.0</td>\n",
       "      <td>0.006737</td>\n",
       "      <td>0.0</td>\n",
       "      <td>5.040273</td>\n",
       "      <td>9.413738</td>\n",
       "    </tr>\n",
       "    <tr>\n",
       "      <th>2022-02-02</th>\n",
       "      <td>38743.71</td>\n",
       "      <td>38834.62</td>\n",
       "      <td>36832.73</td>\n",
       "      <td>36952.98</td>\n",
       "      <td>36952.98</td>\n",
       "      <td>19155189416</td>\n",
       "      <td>78038075903</td>\n",
       "      <td>38064751930</td>\n",
       "      <td>0.000271</td>\n",
       "      <td>0.0</td>\n",
       "      <td>-0.047311</td>\n",
       "      <td>-0.0</td>\n",
       "      <td>5.040273</td>\n",
       "      <td>9.413738</td>\n",
       "    </tr>\n",
       "    <tr>\n",
       "      <th>2022-02-03</th>\n",
       "      <td>36944.80</td>\n",
       "      <td>37154.60</td>\n",
       "      <td>36375.54</td>\n",
       "      <td>37154.60</td>\n",
       "      <td>37154.60</td>\n",
       "      <td>18591534769</td>\n",
       "      <td>78064010105</td>\n",
       "      <td>36776101831</td>\n",
       "      <td>0.000332</td>\n",
       "      <td>0.0</td>\n",
       "      <td>0.005441</td>\n",
       "      <td>0.0</td>\n",
       "      <td>5.040273</td>\n",
       "      <td>9.413738</td>\n",
       "    </tr>\n",
       "  </tbody>\n",
       "</table>\n",
       "<p>2413 rows × 14 columns</p>\n",
       "</div>"
      ],
      "text/plain": [
       "                Open      High       Low     Close  Adj Close       Volume  \\\n",
       "Date                                                                         \n",
       "2015-06-28    250.96    251.17    247.43    249.01     249.01     15137600   \n",
       "2015-06-29    248.72    257.17    248.58    257.06     257.06     34742900   \n",
       "2015-06-30    257.04    267.87    255.95    263.07     263.07     44533800   \n",
       "2015-07-01    263.35    265.17    255.77    258.62     258.62     27029800   \n",
       "2015-07-02    258.55    261.63    254.12    255.41     255.41     21551900   \n",
       "...              ...       ...       ...       ...        ...          ...   \n",
       "2022-01-30  38151.92  38266.34  37437.71  37917.60   37917.60  14643548444   \n",
       "2022-01-31  37920.28  38647.26  36733.57  38483.13   38483.13  20734730465   \n",
       "2022-02-01  38481.77  39115.13  38113.66  38743.27   38743.27  20288500328   \n",
       "2022-02-02  38743.71  38834.62  36832.73  36952.98   36952.98  19155189416   \n",
       "2022-02-03  36944.80  37154.60  36375.54  37154.60   37154.60  18591534769   \n",
       "\n",
       "            USDT Marketcap  USDT Volume  USDT Change  Signal   Returns  \\\n",
       "Date                                                                     \n",
       "2015-06-28          451600         1353     0.000000     0.0       NaN   \n",
       "2015-06-29          451600       240065     0.000000     0.0  0.031816   \n",
       "2015-06-30          451600       226186     0.000000     0.0  0.023111   \n",
       "2015-07-01          451600         7802     0.000000     0.0 -0.017060   \n",
       "2015-07-02          451600        33422     0.000000     0.0 -0.012490   \n",
       "...                    ...          ...          ...     ...       ...   \n",
       "2022-01-30     78198382292  30309259657    -0.002150     0.0 -0.005800   \n",
       "2022-01-31     78062781790  37880065303    -0.001734     0.0  0.014805   \n",
       "2022-02-01     78016936424  36738926224    -0.000587     0.0  0.006737   \n",
       "2022-02-02     78038075903  38064751930     0.000271     0.0 -0.047311   \n",
       "2022-02-03     78064010105  36776101831     0.000332     0.0  0.005441   \n",
       "\n",
       "            Strategy    cumret    cummax  \n",
       "Date                                      \n",
       "2015-06-28       NaN       NaN       NaN  \n",
       "2015-06-29       0.0  1.000000  1.000000  \n",
       "2015-06-30       0.0  1.000000  1.000000  \n",
       "2015-07-01      -0.0  1.000000  1.000000  \n",
       "2015-07-02      -0.0  1.000000  1.000000  \n",
       "...              ...       ...       ...  \n",
       "2022-01-30      -0.0  5.040273  9.413738  \n",
       "2022-01-31       0.0  5.040273  9.413738  \n",
       "2022-02-01       0.0  5.040273  9.413738  \n",
       "2022-02-02      -0.0  5.040273  9.413738  \n",
       "2022-02-03       0.0  5.040273  9.413738  \n",
       "\n",
       "[2413 rows x 14 columns]"
      ]
     },
     "execution_count": 27,
     "metadata": {},
     "output_type": "execute_result"
    }
   ],
   "source": [
    "df"
   ]
  },
  {
   "cell_type": "code",
   "execution_count": 28,
   "metadata": {},
   "outputs": [
    {
     "data": {
      "text/plain": [
       "9.41373813160844"
      ]
     },
     "execution_count": 28,
     "metadata": {},
     "output_type": "execute_result"
    }
   ],
   "source": [
    "df['cumret'].max()"
   ]
  },
  {
   "cell_type": "code",
   "execution_count": 29,
   "metadata": {},
   "outputs": [
    {
     "data": {
      "text/plain": [
       "4.614857573864099"
      ]
     },
     "execution_count": 29,
     "metadata": {},
     "output_type": "execute_result"
    }
   ],
   "source": [
    "drawdown.max()"
   ]
  },
  {
   "cell_type": "code",
   "execution_count": 30,
   "metadata": {},
   "outputs": [
    {
     "data": {
      "text/plain": [
       "1.9887890699008692"
      ]
     },
     "execution_count": 30,
     "metadata": {},
     "output_type": "execute_result"
    }
   ],
   "source": [
    "df['cumret'].std()"
   ]
  },
  {
   "cell_type": "code",
   "execution_count": 31,
   "metadata": {},
   "outputs": [
    {
     "data": {
      "text/plain": [
       "3.4705118532193633"
      ]
     },
     "execution_count": 31,
     "metadata": {},
     "output_type": "execute_result"
    }
   ],
   "source": [
    "df['cumret'].mean()"
   ]
  },
  {
   "cell_type": "code",
   "execution_count": 32,
   "metadata": {},
   "outputs": [],
   "source": [
    "Sharpe_Ratio=df['cumret'].mean() / df['cumret'].std()"
   ]
  },
  {
   "cell_type": "code",
   "execution_count": 33,
   "metadata": {},
   "outputs": [
    {
     "data": {
      "text/plain": [
       "1.7450376743031628"
      ]
     },
     "execution_count": 33,
     "metadata": {},
     "output_type": "execute_result"
    }
   ],
   "source": [
    "Sharpe_Ratio\n"
   ]
  },
  {
   "cell_type": "markdown",
   "metadata": {},
   "source": [
    "# A DNN approach"
   ]
  },
  {
   "cell_type": "markdown",
   "metadata": {},
   "source": [
    "Next, we will use the change of the USDT marketcap as a feauture in a simple neural network-based approach. We will also use the momentum, volatility and distance features to help us to build a more robust model, which deals better with the asset's heavy price fluctuations."
   ]
  },
  {
   "cell_type": "code",
   "execution_count": 34,
   "metadata": {},
   "outputs": [],
   "source": [
    "import tensorflow as tf\n",
    "from keras.models import Sequential\n",
    "from keras.layers import Dense, Dropout\n",
    "from tensorflow.keras.optimizers import Adam, RMSprop\n",
    "import random\n",
    "from tensorflow.keras import regularizers"
   ]
  },
  {
   "cell_type": "code",
   "execution_count": 35,
   "metadata": {},
   "outputs": [],
   "source": [
    "optimizer = Adam(learning_rate=0.0001)"
   ]
  },
  {
   "cell_type": "markdown",
   "metadata": {},
   "source": [
    "### Calculate the log returns"
   ]
  },
  {
   "cell_type": "code",
   "execution_count": 36,
   "metadata": {},
   "outputs": [],
   "source": [
    "dfnn['Return']=np.log(dfnn['Adj Close'] /\n",
    " dfnn['Adj Close'].shift(1))"
   ]
  },
  {
   "cell_type": "code",
   "execution_count": 37,
   "metadata": {},
   "outputs": [
    {
     "data": {
      "text/html": [
       "<div>\n",
       "<style scoped>\n",
       "    .dataframe tbody tr th:only-of-type {\n",
       "        vertical-align: middle;\n",
       "    }\n",
       "\n",
       "    .dataframe tbody tr th {\n",
       "        vertical-align: top;\n",
       "    }\n",
       "\n",
       "    .dataframe thead th {\n",
       "        text-align: right;\n",
       "    }\n",
       "</style>\n",
       "<table border=\"1\" class=\"dataframe\">\n",
       "  <thead>\n",
       "    <tr style=\"text-align: right;\">\n",
       "      <th></th>\n",
       "      <th>Open</th>\n",
       "      <th>High</th>\n",
       "      <th>Low</th>\n",
       "      <th>Close</th>\n",
       "      <th>Adj Close</th>\n",
       "      <th>Volume</th>\n",
       "      <th>USDT Marketcap</th>\n",
       "      <th>USDT Volume</th>\n",
       "      <th>USDT Change</th>\n",
       "      <th>Return</th>\n",
       "    </tr>\n",
       "    <tr>\n",
       "      <th>Date</th>\n",
       "      <th></th>\n",
       "      <th></th>\n",
       "      <th></th>\n",
       "      <th></th>\n",
       "      <th></th>\n",
       "      <th></th>\n",
       "      <th></th>\n",
       "      <th></th>\n",
       "      <th></th>\n",
       "      <th></th>\n",
       "    </tr>\n",
       "  </thead>\n",
       "  <tbody>\n",
       "    <tr>\n",
       "      <th>2015-06-28</th>\n",
       "      <td>250.96</td>\n",
       "      <td>251.17</td>\n",
       "      <td>247.43</td>\n",
       "      <td>249.01</td>\n",
       "      <td>249.01</td>\n",
       "      <td>15137600</td>\n",
       "      <td>451600</td>\n",
       "      <td>1353</td>\n",
       "      <td>0.000000</td>\n",
       "      <td>NaN</td>\n",
       "    </tr>\n",
       "    <tr>\n",
       "      <th>2015-06-29</th>\n",
       "      <td>248.72</td>\n",
       "      <td>257.17</td>\n",
       "      <td>248.58</td>\n",
       "      <td>257.06</td>\n",
       "      <td>257.06</td>\n",
       "      <td>34742900</td>\n",
       "      <td>451600</td>\n",
       "      <td>240065</td>\n",
       "      <td>0.000000</td>\n",
       "      <td>0.031816</td>\n",
       "    </tr>\n",
       "    <tr>\n",
       "      <th>2015-06-30</th>\n",
       "      <td>257.04</td>\n",
       "      <td>267.87</td>\n",
       "      <td>255.95</td>\n",
       "      <td>263.07</td>\n",
       "      <td>263.07</td>\n",
       "      <td>44533800</td>\n",
       "      <td>451600</td>\n",
       "      <td>226186</td>\n",
       "      <td>0.000000</td>\n",
       "      <td>0.023111</td>\n",
       "    </tr>\n",
       "    <tr>\n",
       "      <th>2015-07-01</th>\n",
       "      <td>263.35</td>\n",
       "      <td>265.17</td>\n",
       "      <td>255.77</td>\n",
       "      <td>258.62</td>\n",
       "      <td>258.62</td>\n",
       "      <td>27029800</td>\n",
       "      <td>451600</td>\n",
       "      <td>7802</td>\n",
       "      <td>0.000000</td>\n",
       "      <td>-0.017060</td>\n",
       "    </tr>\n",
       "    <tr>\n",
       "      <th>2015-07-02</th>\n",
       "      <td>258.55</td>\n",
       "      <td>261.63</td>\n",
       "      <td>254.12</td>\n",
       "      <td>255.41</td>\n",
       "      <td>255.41</td>\n",
       "      <td>21551900</td>\n",
       "      <td>451600</td>\n",
       "      <td>33422</td>\n",
       "      <td>0.000000</td>\n",
       "      <td>-0.012490</td>\n",
       "    </tr>\n",
       "    <tr>\n",
       "      <th>...</th>\n",
       "      <td>...</td>\n",
       "      <td>...</td>\n",
       "      <td>...</td>\n",
       "      <td>...</td>\n",
       "      <td>...</td>\n",
       "      <td>...</td>\n",
       "      <td>...</td>\n",
       "      <td>...</td>\n",
       "      <td>...</td>\n",
       "      <td>...</td>\n",
       "    </tr>\n",
       "    <tr>\n",
       "      <th>2022-01-30</th>\n",
       "      <td>38151.92</td>\n",
       "      <td>38266.34</td>\n",
       "      <td>37437.71</td>\n",
       "      <td>37917.60</td>\n",
       "      <td>37917.60</td>\n",
       "      <td>14643548444</td>\n",
       "      <td>78198382292</td>\n",
       "      <td>30309259657</td>\n",
       "      <td>-0.002150</td>\n",
       "      <td>-0.005800</td>\n",
       "    </tr>\n",
       "    <tr>\n",
       "      <th>2022-01-31</th>\n",
       "      <td>37920.28</td>\n",
       "      <td>38647.26</td>\n",
       "      <td>36733.57</td>\n",
       "      <td>38483.13</td>\n",
       "      <td>38483.13</td>\n",
       "      <td>20734730465</td>\n",
       "      <td>78062781790</td>\n",
       "      <td>37880065303</td>\n",
       "      <td>-0.001734</td>\n",
       "      <td>0.014805</td>\n",
       "    </tr>\n",
       "    <tr>\n",
       "      <th>2022-02-01</th>\n",
       "      <td>38481.77</td>\n",
       "      <td>39115.13</td>\n",
       "      <td>38113.66</td>\n",
       "      <td>38743.27</td>\n",
       "      <td>38743.27</td>\n",
       "      <td>20288500328</td>\n",
       "      <td>78016936424</td>\n",
       "      <td>36738926224</td>\n",
       "      <td>-0.000587</td>\n",
       "      <td>0.006737</td>\n",
       "    </tr>\n",
       "    <tr>\n",
       "      <th>2022-02-02</th>\n",
       "      <td>38743.71</td>\n",
       "      <td>38834.62</td>\n",
       "      <td>36832.73</td>\n",
       "      <td>36952.98</td>\n",
       "      <td>36952.98</td>\n",
       "      <td>19155189416</td>\n",
       "      <td>78038075903</td>\n",
       "      <td>38064751930</td>\n",
       "      <td>0.000271</td>\n",
       "      <td>-0.047311</td>\n",
       "    </tr>\n",
       "    <tr>\n",
       "      <th>2022-02-03</th>\n",
       "      <td>36944.80</td>\n",
       "      <td>37154.60</td>\n",
       "      <td>36375.54</td>\n",
       "      <td>37154.60</td>\n",
       "      <td>37154.60</td>\n",
       "      <td>18591534769</td>\n",
       "      <td>78064010105</td>\n",
       "      <td>36776101831</td>\n",
       "      <td>0.000332</td>\n",
       "      <td>0.005441</td>\n",
       "    </tr>\n",
       "  </tbody>\n",
       "</table>\n",
       "<p>2413 rows × 10 columns</p>\n",
       "</div>"
      ],
      "text/plain": [
       "                Open      High       Low     Close  Adj Close       Volume  \\\n",
       "Date                                                                         \n",
       "2015-06-28    250.96    251.17    247.43    249.01     249.01     15137600   \n",
       "2015-06-29    248.72    257.17    248.58    257.06     257.06     34742900   \n",
       "2015-06-30    257.04    267.87    255.95    263.07     263.07     44533800   \n",
       "2015-07-01    263.35    265.17    255.77    258.62     258.62     27029800   \n",
       "2015-07-02    258.55    261.63    254.12    255.41     255.41     21551900   \n",
       "...              ...       ...       ...       ...        ...          ...   \n",
       "2022-01-30  38151.92  38266.34  37437.71  37917.60   37917.60  14643548444   \n",
       "2022-01-31  37920.28  38647.26  36733.57  38483.13   38483.13  20734730465   \n",
       "2022-02-01  38481.77  39115.13  38113.66  38743.27   38743.27  20288500328   \n",
       "2022-02-02  38743.71  38834.62  36832.73  36952.98   36952.98  19155189416   \n",
       "2022-02-03  36944.80  37154.60  36375.54  37154.60   37154.60  18591534769   \n",
       "\n",
       "            USDT Marketcap  USDT Volume  USDT Change    Return  \n",
       "Date                                                            \n",
       "2015-06-28          451600         1353     0.000000       NaN  \n",
       "2015-06-29          451600       240065     0.000000  0.031816  \n",
       "2015-06-30          451600       226186     0.000000  0.023111  \n",
       "2015-07-01          451600         7802     0.000000 -0.017060  \n",
       "2015-07-02          451600        33422     0.000000 -0.012490  \n",
       "...                    ...          ...          ...       ...  \n",
       "2022-01-30     78198382292  30309259657    -0.002150 -0.005800  \n",
       "2022-01-31     78062781790  37880065303    -0.001734  0.014805  \n",
       "2022-02-01     78016936424  36738926224    -0.000587  0.006737  \n",
       "2022-02-02     78038075903  38064751930     0.000271 -0.047311  \n",
       "2022-02-03     78064010105  36776101831     0.000332  0.005441  \n",
       "\n",
       "[2413 rows x 10 columns]"
      ]
     },
     "execution_count": 37,
     "metadata": {},
     "output_type": "execute_result"
    }
   ],
   "source": [
    "dfnn"
   ]
  },
  {
   "cell_type": "markdown",
   "metadata": {},
   "source": [
    "### Calculate the momentum, volatility and distance metrics"
   ]
  },
  {
   "cell_type": "code",
   "execution_count": 38,
   "metadata": {},
   "outputs": [],
   "source": [
    "dfnn['Momentum'] = dfnn['Return'].rolling(5).mean().shift(1)\n",
    "dfnn['Volatility'] = dfnn['Return'].rolling(20).std().shift(1)\n",
    "dfnn['Distance'] = (dfnn['Adj Close'] - dfnn['Adj Close'].rolling(50).mean()).shift(1)"
   ]
  },
  {
   "cell_type": "code",
   "execution_count": 39,
   "metadata": {},
   "outputs": [],
   "source": [
    "dfnn['Direction'] = np.where(dfnn['Return'] > 0, 1, 0) "
   ]
  },
  {
   "cell_type": "code",
   "execution_count": 40,
   "metadata": {},
   "outputs": [
    {
     "data": {
      "text/html": [
       "<div>\n",
       "<style scoped>\n",
       "    .dataframe tbody tr th:only-of-type {\n",
       "        vertical-align: middle;\n",
       "    }\n",
       "\n",
       "    .dataframe tbody tr th {\n",
       "        vertical-align: top;\n",
       "    }\n",
       "\n",
       "    .dataframe thead th {\n",
       "        text-align: right;\n",
       "    }\n",
       "</style>\n",
       "<table border=\"1\" class=\"dataframe\">\n",
       "  <thead>\n",
       "    <tr style=\"text-align: right;\">\n",
       "      <th></th>\n",
       "      <th>Open</th>\n",
       "      <th>High</th>\n",
       "      <th>Low</th>\n",
       "      <th>Close</th>\n",
       "      <th>Adj Close</th>\n",
       "      <th>Volume</th>\n",
       "      <th>USDT Marketcap</th>\n",
       "      <th>USDT Volume</th>\n",
       "      <th>USDT Change</th>\n",
       "      <th>Return</th>\n",
       "      <th>Momentum</th>\n",
       "      <th>Volatility</th>\n",
       "      <th>Distance</th>\n",
       "      <th>Direction</th>\n",
       "    </tr>\n",
       "    <tr>\n",
       "      <th>Date</th>\n",
       "      <th></th>\n",
       "      <th></th>\n",
       "      <th></th>\n",
       "      <th></th>\n",
       "      <th></th>\n",
       "      <th></th>\n",
       "      <th></th>\n",
       "      <th></th>\n",
       "      <th></th>\n",
       "      <th></th>\n",
       "      <th></th>\n",
       "      <th></th>\n",
       "      <th></th>\n",
       "      <th></th>\n",
       "    </tr>\n",
       "  </thead>\n",
       "  <tbody>\n",
       "    <tr>\n",
       "      <th>2015-06-28</th>\n",
       "      <td>250.96</td>\n",
       "      <td>251.17</td>\n",
       "      <td>247.43</td>\n",
       "      <td>249.01</td>\n",
       "      <td>249.01</td>\n",
       "      <td>15137600</td>\n",
       "      <td>451600</td>\n",
       "      <td>1353</td>\n",
       "      <td>0.000000</td>\n",
       "      <td>NaN</td>\n",
       "      <td>NaN</td>\n",
       "      <td>NaN</td>\n",
       "      <td>NaN</td>\n",
       "      <td>0</td>\n",
       "    </tr>\n",
       "    <tr>\n",
       "      <th>2015-06-29</th>\n",
       "      <td>248.72</td>\n",
       "      <td>257.17</td>\n",
       "      <td>248.58</td>\n",
       "      <td>257.06</td>\n",
       "      <td>257.06</td>\n",
       "      <td>34742900</td>\n",
       "      <td>451600</td>\n",
       "      <td>240065</td>\n",
       "      <td>0.000000</td>\n",
       "      <td>0.031816</td>\n",
       "      <td>NaN</td>\n",
       "      <td>NaN</td>\n",
       "      <td>NaN</td>\n",
       "      <td>1</td>\n",
       "    </tr>\n",
       "    <tr>\n",
       "      <th>2015-06-30</th>\n",
       "      <td>257.04</td>\n",
       "      <td>267.87</td>\n",
       "      <td>255.95</td>\n",
       "      <td>263.07</td>\n",
       "      <td>263.07</td>\n",
       "      <td>44533800</td>\n",
       "      <td>451600</td>\n",
       "      <td>226186</td>\n",
       "      <td>0.000000</td>\n",
       "      <td>0.023111</td>\n",
       "      <td>NaN</td>\n",
       "      <td>NaN</td>\n",
       "      <td>NaN</td>\n",
       "      <td>1</td>\n",
       "    </tr>\n",
       "    <tr>\n",
       "      <th>2015-07-01</th>\n",
       "      <td>263.35</td>\n",
       "      <td>265.17</td>\n",
       "      <td>255.77</td>\n",
       "      <td>258.62</td>\n",
       "      <td>258.62</td>\n",
       "      <td>27029800</td>\n",
       "      <td>451600</td>\n",
       "      <td>7802</td>\n",
       "      <td>0.000000</td>\n",
       "      <td>-0.017060</td>\n",
       "      <td>NaN</td>\n",
       "      <td>NaN</td>\n",
       "      <td>NaN</td>\n",
       "      <td>0</td>\n",
       "    </tr>\n",
       "    <tr>\n",
       "      <th>2015-07-02</th>\n",
       "      <td>258.55</td>\n",
       "      <td>261.63</td>\n",
       "      <td>254.12</td>\n",
       "      <td>255.41</td>\n",
       "      <td>255.41</td>\n",
       "      <td>21551900</td>\n",
       "      <td>451600</td>\n",
       "      <td>33422</td>\n",
       "      <td>0.000000</td>\n",
       "      <td>-0.012490</td>\n",
       "      <td>NaN</td>\n",
       "      <td>NaN</td>\n",
       "      <td>NaN</td>\n",
       "      <td>0</td>\n",
       "    </tr>\n",
       "    <tr>\n",
       "      <th>...</th>\n",
       "      <td>...</td>\n",
       "      <td>...</td>\n",
       "      <td>...</td>\n",
       "      <td>...</td>\n",
       "      <td>...</td>\n",
       "      <td>...</td>\n",
       "      <td>...</td>\n",
       "      <td>...</td>\n",
       "      <td>...</td>\n",
       "      <td>...</td>\n",
       "      <td>...</td>\n",
       "      <td>...</td>\n",
       "      <td>...</td>\n",
       "      <td>...</td>\n",
       "    </tr>\n",
       "    <tr>\n",
       "      <th>2022-01-30</th>\n",
       "      <td>38151.92</td>\n",
       "      <td>38266.34</td>\n",
       "      <td>37437.71</td>\n",
       "      <td>37917.60</td>\n",
       "      <td>37917.60</td>\n",
       "      <td>14643548444</td>\n",
       "      <td>78198382292</td>\n",
       "      <td>30309259657</td>\n",
       "      <td>-0.002150</td>\n",
       "      <td>-0.005800</td>\n",
       "      <td>0.007937</td>\n",
       "      <td>0.031378</td>\n",
       "      <td>-6116.3698</td>\n",
       "      <td>0</td>\n",
       "    </tr>\n",
       "    <tr>\n",
       "      <th>2022-01-31</th>\n",
       "      <td>37920.28</td>\n",
       "      <td>38647.26</td>\n",
       "      <td>36733.57</td>\n",
       "      <td>38483.13</td>\n",
       "      <td>38483.13</td>\n",
       "      <td>20734730465</td>\n",
       "      <td>78062781790</td>\n",
       "      <td>37880065303</td>\n",
       "      <td>-0.001734</td>\n",
       "      <td>0.014805</td>\n",
       "      <td>0.005148</td>\n",
       "      <td>0.031373</td>\n",
       "      <td>-6108.0516</td>\n",
       "      <td>1</td>\n",
       "    </tr>\n",
       "    <tr>\n",
       "      <th>2022-02-01</th>\n",
       "      <td>38481.77</td>\n",
       "      <td>39115.13</td>\n",
       "      <td>38113.66</td>\n",
       "      <td>38743.27</td>\n",
       "      <td>38743.27</td>\n",
       "      <td>20288500328</td>\n",
       "      <td>78016936424</td>\n",
       "      <td>36738926224</td>\n",
       "      <td>-0.000587</td>\n",
       "      <td>0.006737</td>\n",
       "      <td>0.008661</td>\n",
       "      <td>0.031105</td>\n",
       "      <td>-5310.2174</td>\n",
       "      <td>1</td>\n",
       "    </tr>\n",
       "    <tr>\n",
       "      <th>2022-02-02</th>\n",
       "      <td>38743.71</td>\n",
       "      <td>38834.62</td>\n",
       "      <td>36832.73</td>\n",
       "      <td>36952.98</td>\n",
       "      <td>36952.98</td>\n",
       "      <td>19155189416</td>\n",
       "      <td>78038075903</td>\n",
       "      <td>38064751930</td>\n",
       "      <td>0.000271</td>\n",
       "      <td>-0.047311</td>\n",
       "      <td>0.008462</td>\n",
       "      <td>0.030261</td>\n",
       "      <td>-4890.1932</td>\n",
       "      <td>0</td>\n",
       "    </tr>\n",
       "    <tr>\n",
       "      <th>2022-02-03</th>\n",
       "      <td>36944.80</td>\n",
       "      <td>37154.60</td>\n",
       "      <td>36375.54</td>\n",
       "      <td>37154.60</td>\n",
       "      <td>37154.60</td>\n",
       "      <td>18591534769</td>\n",
       "      <td>78064010105</td>\n",
       "      <td>36776101831</td>\n",
       "      <td>0.000332</td>\n",
       "      <td>0.005441</td>\n",
       "      <td>-0.004450</td>\n",
       "      <td>0.031153</td>\n",
       "      <td>-6487.2902</td>\n",
       "      <td>1</td>\n",
       "    </tr>\n",
       "  </tbody>\n",
       "</table>\n",
       "<p>2413 rows × 14 columns</p>\n",
       "</div>"
      ],
      "text/plain": [
       "                Open      High       Low     Close  Adj Close       Volume  \\\n",
       "Date                                                                         \n",
       "2015-06-28    250.96    251.17    247.43    249.01     249.01     15137600   \n",
       "2015-06-29    248.72    257.17    248.58    257.06     257.06     34742900   \n",
       "2015-06-30    257.04    267.87    255.95    263.07     263.07     44533800   \n",
       "2015-07-01    263.35    265.17    255.77    258.62     258.62     27029800   \n",
       "2015-07-02    258.55    261.63    254.12    255.41     255.41     21551900   \n",
       "...              ...       ...       ...       ...        ...          ...   \n",
       "2022-01-30  38151.92  38266.34  37437.71  37917.60   37917.60  14643548444   \n",
       "2022-01-31  37920.28  38647.26  36733.57  38483.13   38483.13  20734730465   \n",
       "2022-02-01  38481.77  39115.13  38113.66  38743.27   38743.27  20288500328   \n",
       "2022-02-02  38743.71  38834.62  36832.73  36952.98   36952.98  19155189416   \n",
       "2022-02-03  36944.80  37154.60  36375.54  37154.60   37154.60  18591534769   \n",
       "\n",
       "            USDT Marketcap  USDT Volume  USDT Change    Return  Momentum  \\\n",
       "Date                                                                       \n",
       "2015-06-28          451600         1353     0.000000       NaN       NaN   \n",
       "2015-06-29          451600       240065     0.000000  0.031816       NaN   \n",
       "2015-06-30          451600       226186     0.000000  0.023111       NaN   \n",
       "2015-07-01          451600         7802     0.000000 -0.017060       NaN   \n",
       "2015-07-02          451600        33422     0.000000 -0.012490       NaN   \n",
       "...                    ...          ...          ...       ...       ...   \n",
       "2022-01-30     78198382292  30309259657    -0.002150 -0.005800  0.007937   \n",
       "2022-01-31     78062781790  37880065303    -0.001734  0.014805  0.005148   \n",
       "2022-02-01     78016936424  36738926224    -0.000587  0.006737  0.008661   \n",
       "2022-02-02     78038075903  38064751930     0.000271 -0.047311  0.008462   \n",
       "2022-02-03     78064010105  36776101831     0.000332  0.005441 -0.004450   \n",
       "\n",
       "            Volatility   Distance  Direction  \n",
       "Date                                          \n",
       "2015-06-28         NaN        NaN          0  \n",
       "2015-06-29         NaN        NaN          1  \n",
       "2015-06-30         NaN        NaN          1  \n",
       "2015-07-01         NaN        NaN          0  \n",
       "2015-07-02         NaN        NaN          0  \n",
       "...                ...        ...        ...  \n",
       "2022-01-30    0.031378 -6116.3698          0  \n",
       "2022-01-31    0.031373 -6108.0516          1  \n",
       "2022-02-01    0.031105 -5310.2174          1  \n",
       "2022-02-02    0.030261 -4890.1932          0  \n",
       "2022-02-03    0.031153 -6487.2902          1  \n",
       "\n",
       "[2413 rows x 14 columns]"
      ]
     },
     "execution_count": 40,
     "metadata": {},
     "output_type": "execute_result"
    }
   ],
   "source": [
    "dfnn"
   ]
  },
  {
   "cell_type": "markdown",
   "metadata": {},
   "source": [
    "### Create lagged data for the  Returns and the USDT Marketcap % Change and shift by the respective number of lags"
   ]
  },
  {
   "cell_type": "code",
   "execution_count": 41,
   "metadata": {},
   "outputs": [],
   "source": [
    "lags=5"
   ]
  },
  {
   "cell_type": "code",
   "execution_count": 42,
   "metadata": {},
   "outputs": [],
   "source": [
    "cols = []\n",
    "for lag in range(1, lags + 1):\n",
    "    col = f'lag_{lag}'\n",
    "    col_two = f'lag_USDT_{lag}'\n",
    "    #col_three= f'lag_USDT_Mcap_{lag}'\n",
    "    dfnn[col] = dfnn['Return'].shift(lag)\n",
    "    dfnn[col_two] = dfnn['USDT Change'].shift(lag)\n",
    "    #dfnn[col_three] = dfnn['USDT Marketcap'].shift(lag)\n",
    "            \n",
    "    cols.append(col)\n",
    "    cols.append(col_two)\n",
    "    #cols.append(col_three)\n",
    "    \n",
    "dfnn.dropna(inplace=True)"
   ]
  },
  {
   "cell_type": "code",
   "execution_count": 43,
   "metadata": {},
   "outputs": [],
   "source": [
    "cols.extend(['Momentum', 'Volatility', 'Distance'])"
   ]
  },
  {
   "cell_type": "code",
   "execution_count": 44,
   "metadata": {},
   "outputs": [
    {
     "data": {
      "text/plain": [
       "['lag_1',\n",
       " 'lag_USDT_1',\n",
       " 'lag_2',\n",
       " 'lag_USDT_2',\n",
       " 'lag_3',\n",
       " 'lag_USDT_3',\n",
       " 'lag_4',\n",
       " 'lag_USDT_4',\n",
       " 'lag_5',\n",
       " 'lag_USDT_5',\n",
       " 'Momentum',\n",
       " 'Volatility',\n",
       " 'Distance']"
      ]
     },
     "execution_count": 44,
     "metadata": {},
     "output_type": "execute_result"
    }
   ],
   "source": [
    "cols"
   ]
  },
  {
   "cell_type": "code",
   "execution_count": 45,
   "metadata": {},
   "outputs": [
    {
     "data": {
      "text/html": [
       "<div>\n",
       "<style scoped>\n",
       "    .dataframe tbody tr th:only-of-type {\n",
       "        vertical-align: middle;\n",
       "    }\n",
       "\n",
       "    .dataframe tbody tr th {\n",
       "        vertical-align: top;\n",
       "    }\n",
       "\n",
       "    .dataframe thead th {\n",
       "        text-align: right;\n",
       "    }\n",
       "</style>\n",
       "<table border=\"1\" class=\"dataframe\">\n",
       "  <thead>\n",
       "    <tr style=\"text-align: right;\">\n",
       "      <th></th>\n",
       "      <th>Open</th>\n",
       "      <th>High</th>\n",
       "      <th>Low</th>\n",
       "      <th>Close</th>\n",
       "      <th>Adj Close</th>\n",
       "      <th>Volume</th>\n",
       "      <th>USDT Marketcap</th>\n",
       "      <th>USDT Volume</th>\n",
       "      <th>USDT Change</th>\n",
       "      <th>Return</th>\n",
       "      <th>...</th>\n",
       "      <th>lag_1</th>\n",
       "      <th>lag_USDT_1</th>\n",
       "      <th>lag_2</th>\n",
       "      <th>lag_USDT_2</th>\n",
       "      <th>lag_3</th>\n",
       "      <th>lag_USDT_3</th>\n",
       "      <th>lag_4</th>\n",
       "      <th>lag_USDT_4</th>\n",
       "      <th>lag_5</th>\n",
       "      <th>lag_USDT_5</th>\n",
       "    </tr>\n",
       "    <tr>\n",
       "      <th>Date</th>\n",
       "      <th></th>\n",
       "      <th></th>\n",
       "      <th></th>\n",
       "      <th></th>\n",
       "      <th></th>\n",
       "      <th></th>\n",
       "      <th></th>\n",
       "      <th></th>\n",
       "      <th></th>\n",
       "      <th></th>\n",
       "      <th></th>\n",
       "      <th></th>\n",
       "      <th></th>\n",
       "      <th></th>\n",
       "      <th></th>\n",
       "      <th></th>\n",
       "      <th></th>\n",
       "      <th></th>\n",
       "      <th></th>\n",
       "      <th></th>\n",
       "      <th></th>\n",
       "    </tr>\n",
       "  </thead>\n",
       "  <tbody>\n",
       "    <tr>\n",
       "      <th>2022-01-30</th>\n",
       "      <td>38151.92</td>\n",
       "      <td>38266.34</td>\n",
       "      <td>37437.71</td>\n",
       "      <td>37917.60</td>\n",
       "      <td>37917.60</td>\n",
       "      <td>14643548444</td>\n",
       "      <td>78198382292</td>\n",
       "      <td>30309259657</td>\n",
       "      <td>-0.0022</td>\n",
       "      <td>-0.0058</td>\n",
       "      <td>...</td>\n",
       "      <td>0.0093</td>\n",
       "      <td>0.0015</td>\n",
       "      <td>0.0172</td>\n",
       "      <td>-0.0060</td>\n",
       "      <td>0.0077</td>\n",
       "      <td>-0.0004</td>\n",
       "      <td>-0.0028</td>\n",
       "      <td>0.0062</td>\n",
       "      <td>0.0081</td>\n",
       "      <td>-0.0051</td>\n",
       "    </tr>\n",
       "    <tr>\n",
       "      <th>2022-01-31</th>\n",
       "      <td>37920.28</td>\n",
       "      <td>38647.26</td>\n",
       "      <td>36733.57</td>\n",
       "      <td>38483.13</td>\n",
       "      <td>38483.13</td>\n",
       "      <td>20734730465</td>\n",
       "      <td>78062781790</td>\n",
       "      <td>37880065303</td>\n",
       "      <td>-0.0017</td>\n",
       "      <td>0.0148</td>\n",
       "      <td>...</td>\n",
       "      <td>-0.0058</td>\n",
       "      <td>-0.0022</td>\n",
       "      <td>0.0093</td>\n",
       "      <td>0.0015</td>\n",
       "      <td>0.0172</td>\n",
       "      <td>-0.0060</td>\n",
       "      <td>0.0077</td>\n",
       "      <td>-0.0004</td>\n",
       "      <td>-0.0028</td>\n",
       "      <td>0.0062</td>\n",
       "    </tr>\n",
       "    <tr>\n",
       "      <th>2022-02-01</th>\n",
       "      <td>38481.77</td>\n",
       "      <td>39115.13</td>\n",
       "      <td>38113.66</td>\n",
       "      <td>38743.27</td>\n",
       "      <td>38743.27</td>\n",
       "      <td>20288500328</td>\n",
       "      <td>78016936424</td>\n",
       "      <td>36738926224</td>\n",
       "      <td>-0.0006</td>\n",
       "      <td>0.0067</td>\n",
       "      <td>...</td>\n",
       "      <td>0.0148</td>\n",
       "      <td>-0.0017</td>\n",
       "      <td>-0.0058</td>\n",
       "      <td>-0.0022</td>\n",
       "      <td>0.0093</td>\n",
       "      <td>0.0015</td>\n",
       "      <td>0.0172</td>\n",
       "      <td>-0.0060</td>\n",
       "      <td>0.0077</td>\n",
       "      <td>-0.0004</td>\n",
       "    </tr>\n",
       "    <tr>\n",
       "      <th>2022-02-02</th>\n",
       "      <td>38743.71</td>\n",
       "      <td>38834.62</td>\n",
       "      <td>36832.73</td>\n",
       "      <td>36952.98</td>\n",
       "      <td>36952.98</td>\n",
       "      <td>19155189416</td>\n",
       "      <td>78038075903</td>\n",
       "      <td>38064751930</td>\n",
       "      <td>0.0003</td>\n",
       "      <td>-0.0473</td>\n",
       "      <td>...</td>\n",
       "      <td>0.0067</td>\n",
       "      <td>-0.0006</td>\n",
       "      <td>0.0148</td>\n",
       "      <td>-0.0017</td>\n",
       "      <td>-0.0058</td>\n",
       "      <td>-0.0022</td>\n",
       "      <td>0.0093</td>\n",
       "      <td>0.0015</td>\n",
       "      <td>0.0172</td>\n",
       "      <td>-0.0060</td>\n",
       "    </tr>\n",
       "    <tr>\n",
       "      <th>2022-02-03</th>\n",
       "      <td>36944.80</td>\n",
       "      <td>37154.60</td>\n",
       "      <td>36375.54</td>\n",
       "      <td>37154.60</td>\n",
       "      <td>37154.60</td>\n",
       "      <td>18591534769</td>\n",
       "      <td>78064010105</td>\n",
       "      <td>36776101831</td>\n",
       "      <td>0.0003</td>\n",
       "      <td>0.0054</td>\n",
       "      <td>...</td>\n",
       "      <td>-0.0473</td>\n",
       "      <td>0.0003</td>\n",
       "      <td>0.0067</td>\n",
       "      <td>-0.0006</td>\n",
       "      <td>0.0148</td>\n",
       "      <td>-0.0017</td>\n",
       "      <td>-0.0058</td>\n",
       "      <td>-0.0022</td>\n",
       "      <td>0.0093</td>\n",
       "      <td>0.0015</td>\n",
       "    </tr>\n",
       "  </tbody>\n",
       "</table>\n",
       "<p>5 rows × 24 columns</p>\n",
       "</div>"
      ],
      "text/plain": [
       "                Open      High       Low     Close  Adj Close       Volume  \\\n",
       "Date                                                                         \n",
       "2022-01-30  38151.92  38266.34  37437.71  37917.60   37917.60  14643548444   \n",
       "2022-01-31  37920.28  38647.26  36733.57  38483.13   38483.13  20734730465   \n",
       "2022-02-01  38481.77  39115.13  38113.66  38743.27   38743.27  20288500328   \n",
       "2022-02-02  38743.71  38834.62  36832.73  36952.98   36952.98  19155189416   \n",
       "2022-02-03  36944.80  37154.60  36375.54  37154.60   37154.60  18591534769   \n",
       "\n",
       "            USDT Marketcap  USDT Volume  USDT Change  Return  ...   lag_1  \\\n",
       "Date                                                          ...           \n",
       "2022-01-30     78198382292  30309259657      -0.0022 -0.0058  ...  0.0093   \n",
       "2022-01-31     78062781790  37880065303      -0.0017  0.0148  ... -0.0058   \n",
       "2022-02-01     78016936424  36738926224      -0.0006  0.0067  ...  0.0148   \n",
       "2022-02-02     78038075903  38064751930       0.0003 -0.0473  ...  0.0067   \n",
       "2022-02-03     78064010105  36776101831       0.0003  0.0054  ... -0.0473   \n",
       "\n",
       "            lag_USDT_1   lag_2  lag_USDT_2   lag_3  lag_USDT_3   lag_4  \\\n",
       "Date                                                                     \n",
       "2022-01-30      0.0015  0.0172     -0.0060  0.0077     -0.0004 -0.0028   \n",
       "2022-01-31     -0.0022  0.0093      0.0015  0.0172     -0.0060  0.0077   \n",
       "2022-02-01     -0.0017 -0.0058     -0.0022  0.0093      0.0015  0.0172   \n",
       "2022-02-02     -0.0006  0.0148     -0.0017 -0.0058     -0.0022  0.0093   \n",
       "2022-02-03      0.0003  0.0067     -0.0006  0.0148     -0.0017 -0.0058   \n",
       "\n",
       "            lag_USDT_4   lag_5  lag_USDT_5  \n",
       "Date                                        \n",
       "2022-01-30      0.0062  0.0081     -0.0051  \n",
       "2022-01-31     -0.0004 -0.0028      0.0062  \n",
       "2022-02-01     -0.0060  0.0077     -0.0004  \n",
       "2022-02-02      0.0015  0.0172     -0.0060  \n",
       "2022-02-03     -0.0022  0.0093      0.0015  \n",
       "\n",
       "[5 rows x 24 columns]"
      ]
     },
     "execution_count": 45,
     "metadata": {},
     "output_type": "execute_result"
    }
   ],
   "source": [
    "dfnn.round(4).tail()"
   ]
  },
  {
   "cell_type": "code",
   "execution_count": 46,
   "metadata": {},
   "outputs": [],
   "source": [
    "def set_seeds(seed=100):\n",
    "    random.seed(seed)\n",
    "    np.random.seed(seed)\n",
    "    tf.random.set_seed(100)"
   ]
  },
  {
   "cell_type": "code",
   "execution_count": 47,
   "metadata": {},
   "outputs": [],
   "source": [
    "set_seeds()"
   ]
  },
  {
   "cell_type": "markdown",
   "metadata": {},
   "source": [
    "### Create early-stopping callback"
   ]
  },
  {
   "cell_type": "code",
   "execution_count": 48,
   "metadata": {},
   "outputs": [],
   "source": [
    "callback = tf.keras.callbacks.EarlyStopping(monitor='loss', patience=10)"
   ]
  },
  {
   "cell_type": "code",
   "execution_count": 49,
   "metadata": {},
   "outputs": [],
   "source": [
    "model = Sequential()\n",
    "model.add(Dense(64, activation='relu',\n",
    "input_shape=(len(cols),)))\n",
    "model.add(Dense(64, activation='relu'))\n",
    "model.add(Dense(1, activation='sigmoid'))\n",
    "model.compile(optimizer=optimizer,\n",
    "loss='binary_crossentropy',\n",
    "metrics=['accuracy'])"
   ]
  },
  {
   "cell_type": "markdown",
   "metadata": {},
   "source": [
    "### Perform train test split, fit a simple neural net model"
   ]
  },
  {
   "cell_type": "code",
   "execution_count": 50,
   "metadata": {},
   "outputs": [],
   "source": [
    "cutoff = '2020-12-18' "
   ]
  },
  {
   "cell_type": "code",
   "execution_count": 51,
   "metadata": {},
   "outputs": [],
   "source": [
    "training_data = dfnn[dfnn.index < cutoff].copy() "
   ]
  },
  {
   "cell_type": "code",
   "execution_count": 52,
   "metadata": {},
   "outputs": [],
   "source": [
    "mu, std = training_data.mean(), training_data.std()"
   ]
  },
  {
   "cell_type": "code",
   "execution_count": 53,
   "metadata": {},
   "outputs": [],
   "source": [
    "training_data_ = (training_data - mu) / std "
   ]
  },
  {
   "cell_type": "code",
   "execution_count": 54,
   "metadata": {},
   "outputs": [],
   "source": [
    "test_data = dfnn[dfnn.index >= cutoff].copy()"
   ]
  },
  {
   "cell_type": "code",
   "execution_count": 55,
   "metadata": {},
   "outputs": [],
   "source": [
    "test_data_ = (test_data - mu) / std #Gaussian normalization"
   ]
  },
  {
   "cell_type": "code",
   "execution_count": 56,
   "metadata": {},
   "outputs": [
    {
     "name": "stdout",
     "output_type": "stream",
     "text": [
      "Epoch 1/50\n",
      "49/49 [==============================] - 1s 8ms/step - loss: 65.3672 - accuracy: 0.4423 - val_loss: 122.3869 - val_accuracy: 0.4538\n",
      "Epoch 2/50\n",
      "49/49 [==============================] - 0s 3ms/step - loss: 46.8622 - accuracy: 0.4423 - val_loss: 87.8058 - val_accuracy: 0.4538\n",
      "Epoch 3/50\n",
      "49/49 [==============================] - 0s 3ms/step - loss: 30.7296 - accuracy: 0.4340 - val_loss: 61.3123 - val_accuracy: 0.4436\n",
      "Epoch 4/50\n",
      "49/49 [==============================] - 0s 4ms/step - loss: 20.9706 - accuracy: 0.4429 - val_loss: 39.5616 - val_accuracy: 0.4462\n",
      "Epoch 5/50\n",
      "49/49 [==============================] - 0s 8ms/step - loss: 12.3687 - accuracy: 0.4628 - val_loss: 19.0525 - val_accuracy: 0.4538\n",
      "Epoch 6/50\n",
      "49/49 [==============================] - 1s 15ms/step - loss: 4.3380 - accuracy: 0.4449 - val_loss: 1.0413 - val_accuracy: 0.5462\n",
      "Epoch 7/50\n",
      "49/49 [==============================] - 0s 5ms/step - loss: 1.7515 - accuracy: 0.5506 - val_loss: 2.5094 - val_accuracy: 0.4513\n",
      "Epoch 8/50\n",
      "49/49 [==============================] - 0s 3ms/step - loss: 1.2093 - accuracy: 0.5346 - val_loss: 1.4574 - val_accuracy: 0.4487\n",
      "Epoch 9/50\n",
      "49/49 [==============================] - 0s 5ms/step - loss: 1.6928 - accuracy: 0.5506 - val_loss: 2.8928 - val_accuracy: 0.4513\n",
      "Epoch 10/50\n",
      "49/49 [==============================] - 0s 3ms/step - loss: 1.5504 - accuracy: 0.5391 - val_loss: 1.1495 - val_accuracy: 0.4462\n",
      "Epoch 11/50\n",
      "49/49 [==============================] - 0s 3ms/step - loss: 1.6971 - accuracy: 0.5506 - val_loss: 2.7943 - val_accuracy: 0.4513\n",
      "Epoch 12/50\n",
      "49/49 [==============================] - 0s 4ms/step - loss: 1.4575 - accuracy: 0.5423 - val_loss: 1.0740 - val_accuracy: 0.4436\n",
      "Epoch 13/50\n",
      "49/49 [==============================] - 0s 4ms/step - loss: 1.8084 - accuracy: 0.5481 - val_loss: 2.8604 - val_accuracy: 0.4487\n",
      "Epoch 14/50\n",
      "49/49 [==============================] - 0s 5ms/step - loss: 1.4902 - accuracy: 0.5442 - val_loss: 1.0911 - val_accuracy: 0.4462\n",
      "Epoch 15/50\n",
      "49/49 [==============================] - 0s 4ms/step - loss: 1.7425 - accuracy: 0.5487 - val_loss: 2.8516 - val_accuracy: 0.4333\n",
      "Epoch 16/50\n",
      "49/49 [==============================] - 0s 3ms/step - loss: 1.5053 - accuracy: 0.5436 - val_loss: 1.1045 - val_accuracy: 0.4538\n",
      "Epoch 17/50\n",
      "49/49 [==============================] - 0s 3ms/step - loss: 1.7201 - accuracy: 0.5506 - val_loss: 2.8378 - val_accuracy: 0.4487\n",
      "Epoch 18/50\n",
      "49/49 [==============================] - 0s 4ms/step - loss: 1.4709 - accuracy: 0.5455 - val_loss: 1.0753 - val_accuracy: 0.4462\n",
      "CPU times: total: 5.24 s\n",
      "Wall time: 5.57 s\n"
     ]
    },
    {
     "data": {
      "text/plain": [
       "<keras.callbacks.History at 0x23648eb0>"
      ]
     },
     "execution_count": 56,
     "metadata": {},
     "output_type": "execute_result"
    }
   ],
   "source": [
    "%%time\n",
    "model.fit(training_data[cols],\n",
    "    training_data['Direction'],\n",
    "    epochs=50, verbose=True,\n",
    "    validation_split=0.2, shuffle=False, callbacks=[callback])\n"
   ]
  },
  {
   "cell_type": "code",
   "execution_count": 57,
   "metadata": {},
   "outputs": [],
   "source": [
    "res = pd.DataFrame(model.history.history)\n"
   ]
  },
  {
   "cell_type": "code",
   "execution_count": 58,
   "metadata": {},
   "outputs": [
    {
     "data": {
      "text/html": [
       "<div>\n",
       "<style scoped>\n",
       "    .dataframe tbody tr th:only-of-type {\n",
       "        vertical-align: middle;\n",
       "    }\n",
       "\n",
       "    .dataframe tbody tr th {\n",
       "        vertical-align: top;\n",
       "    }\n",
       "\n",
       "    .dataframe thead th {\n",
       "        text-align: right;\n",
       "    }\n",
       "</style>\n",
       "<table border=\"1\" class=\"dataframe\">\n",
       "  <thead>\n",
       "    <tr style=\"text-align: right;\">\n",
       "      <th></th>\n",
       "      <th>loss</th>\n",
       "      <th>accuracy</th>\n",
       "      <th>val_loss</th>\n",
       "      <th>val_accuracy</th>\n",
       "    </tr>\n",
       "  </thead>\n",
       "  <tbody>\n",
       "    <tr>\n",
       "      <th>0</th>\n",
       "      <td>65.367218</td>\n",
       "      <td>0.442308</td>\n",
       "      <td>122.386902</td>\n",
       "      <td>0.453846</td>\n",
       "    </tr>\n",
       "    <tr>\n",
       "      <th>1</th>\n",
       "      <td>46.862156</td>\n",
       "      <td>0.442308</td>\n",
       "      <td>87.805771</td>\n",
       "      <td>0.453846</td>\n",
       "    </tr>\n",
       "    <tr>\n",
       "      <th>2</th>\n",
       "      <td>30.729557</td>\n",
       "      <td>0.433974</td>\n",
       "      <td>61.312271</td>\n",
       "      <td>0.443590</td>\n",
       "    </tr>\n",
       "    <tr>\n",
       "      <th>3</th>\n",
       "      <td>20.970556</td>\n",
       "      <td>0.442949</td>\n",
       "      <td>39.561615</td>\n",
       "      <td>0.446154</td>\n",
       "    </tr>\n",
       "    <tr>\n",
       "      <th>4</th>\n",
       "      <td>12.368680</td>\n",
       "      <td>0.462821</td>\n",
       "      <td>19.052507</td>\n",
       "      <td>0.453846</td>\n",
       "    </tr>\n",
       "    <tr>\n",
       "      <th>5</th>\n",
       "      <td>4.337975</td>\n",
       "      <td>0.444872</td>\n",
       "      <td>1.041327</td>\n",
       "      <td>0.546154</td>\n",
       "    </tr>\n",
       "    <tr>\n",
       "      <th>6</th>\n",
       "      <td>1.751473</td>\n",
       "      <td>0.550641</td>\n",
       "      <td>2.509366</td>\n",
       "      <td>0.451282</td>\n",
       "    </tr>\n",
       "    <tr>\n",
       "      <th>7</th>\n",
       "      <td>1.209296</td>\n",
       "      <td>0.534615</td>\n",
       "      <td>1.457405</td>\n",
       "      <td>0.448718</td>\n",
       "    </tr>\n",
       "    <tr>\n",
       "      <th>8</th>\n",
       "      <td>1.692793</td>\n",
       "      <td>0.550641</td>\n",
       "      <td>2.892802</td>\n",
       "      <td>0.451282</td>\n",
       "    </tr>\n",
       "    <tr>\n",
       "      <th>9</th>\n",
       "      <td>1.550379</td>\n",
       "      <td>0.539103</td>\n",
       "      <td>1.149500</td>\n",
       "      <td>0.446154</td>\n",
       "    </tr>\n",
       "    <tr>\n",
       "      <th>10</th>\n",
       "      <td>1.697089</td>\n",
       "      <td>0.550641</td>\n",
       "      <td>2.794343</td>\n",
       "      <td>0.451282</td>\n",
       "    </tr>\n",
       "    <tr>\n",
       "      <th>11</th>\n",
       "      <td>1.457543</td>\n",
       "      <td>0.542308</td>\n",
       "      <td>1.074046</td>\n",
       "      <td>0.443590</td>\n",
       "    </tr>\n",
       "    <tr>\n",
       "      <th>12</th>\n",
       "      <td>1.808357</td>\n",
       "      <td>0.548077</td>\n",
       "      <td>2.860363</td>\n",
       "      <td>0.448718</td>\n",
       "    </tr>\n",
       "    <tr>\n",
       "      <th>13</th>\n",
       "      <td>1.490177</td>\n",
       "      <td>0.544231</td>\n",
       "      <td>1.091126</td>\n",
       "      <td>0.446154</td>\n",
       "    </tr>\n",
       "    <tr>\n",
       "      <th>14</th>\n",
       "      <td>1.742493</td>\n",
       "      <td>0.548718</td>\n",
       "      <td>2.851614</td>\n",
       "      <td>0.433333</td>\n",
       "    </tr>\n",
       "    <tr>\n",
       "      <th>15</th>\n",
       "      <td>1.505296</td>\n",
       "      <td>0.543590</td>\n",
       "      <td>1.104543</td>\n",
       "      <td>0.453846</td>\n",
       "    </tr>\n",
       "    <tr>\n",
       "      <th>16</th>\n",
       "      <td>1.720068</td>\n",
       "      <td>0.550641</td>\n",
       "      <td>2.837812</td>\n",
       "      <td>0.448718</td>\n",
       "    </tr>\n",
       "    <tr>\n",
       "      <th>17</th>\n",
       "      <td>1.470889</td>\n",
       "      <td>0.545513</td>\n",
       "      <td>1.075316</td>\n",
       "      <td>0.446154</td>\n",
       "    </tr>\n",
       "  </tbody>\n",
       "</table>\n",
       "</div>"
      ],
      "text/plain": [
       "         loss  accuracy    val_loss  val_accuracy\n",
       "0   65.367218  0.442308  122.386902      0.453846\n",
       "1   46.862156  0.442308   87.805771      0.453846\n",
       "2   30.729557  0.433974   61.312271      0.443590\n",
       "3   20.970556  0.442949   39.561615      0.446154\n",
       "4   12.368680  0.462821   19.052507      0.453846\n",
       "5    4.337975  0.444872    1.041327      0.546154\n",
       "6    1.751473  0.550641    2.509366      0.451282\n",
       "7    1.209296  0.534615    1.457405      0.448718\n",
       "8    1.692793  0.550641    2.892802      0.451282\n",
       "9    1.550379  0.539103    1.149500      0.446154\n",
       "10   1.697089  0.550641    2.794343      0.451282\n",
       "11   1.457543  0.542308    1.074046      0.443590\n",
       "12   1.808357  0.548077    2.860363      0.448718\n",
       "13   1.490177  0.544231    1.091126      0.446154\n",
       "14   1.742493  0.548718    2.851614      0.433333\n",
       "15   1.505296  0.543590    1.104543      0.453846\n",
       "16   1.720068  0.550641    2.837812      0.448718\n",
       "17   1.470889  0.545513    1.075316      0.446154"
      ]
     },
     "execution_count": 58,
     "metadata": {},
     "output_type": "execute_result"
    }
   ],
   "source": [
    "res"
   ]
  },
  {
   "cell_type": "code",
   "execution_count": 59,
   "metadata": {},
   "outputs": [
    {
     "data": {
      "image/png": "[encoded data removed]",
      "text/plain": [
       "<Figure size 720x432 with 1 Axes>"
      ]
     },
     "metadata": {
      "needs_background": "light"
     },
     "output_type": "display_data"
    }
   ],
   "source": [
    "res[['accuracy', 'val_accuracy']].plot(figsize=(10, 6), style='--');"
   ]
  },
  {
   "cell_type": "code",
   "execution_count": 60,
   "metadata": {},
   "outputs": [
    {
     "name": "stdout",
     "output_type": "stream",
     "text": [
      "61/61 [==============================] - 0s 3ms/step - loss: 0.7051 - accuracy: 0.4800\n"
     ]
    },
    {
     "data": {
      "text/plain": [
       "[0.7050814628601074, 0.47999998927116394]"
      ]
     },
     "execution_count": 60,
     "metadata": {},
     "output_type": "execute_result"
    }
   ],
   "source": [
    "model.evaluate(training_data_[cols], training_data['Direction'])"
   ]
  },
  {
   "cell_type": "markdown",
   "metadata": {},
   "source": [
    "### Transform predictions into long-short positions"
   ]
  },
  {
   "cell_type": "code",
   "execution_count": 61,
   "metadata": {},
   "outputs": [],
   "source": [
    "pred = np.where(model.predict(training_data_[cols]) > 0.5, 1, 0)"
   ]
  },
  {
   "cell_type": "code",
   "execution_count": 62,
   "metadata": {},
   "outputs": [
    {
     "data": {
      "text/plain": [
       "array([0, 0, 0, 0, 0, 0, 0, 0, 0, 0, 0, 1, 0, 0, 1, 0, 1, 1, 1, 1, 1, 1,\n",
       "       1, 1, 0, 1, 0, 0, 0, 0])"
      ]
     },
     "execution_count": 62,
     "metadata": {},
     "output_type": "execute_result"
    }
   ],
   "source": [
    "pred[:30].flatten()"
   ]
  },
  {
   "cell_type": "code",
   "execution_count": 63,
   "metadata": {},
   "outputs": [],
   "source": [
    "training_data['Prediction'] = np.where(pred > 0, 1, -1)"
   ]
  },
  {
   "cell_type": "code",
   "execution_count": 64,
   "metadata": {},
   "outputs": [],
   "source": [
    "training_data['Strategy'] = (training_data['Prediction'] *\n",
    " training_data['Return']) "
   ]
  },
  {
   "cell_type": "code",
   "execution_count": 65,
   "metadata": {},
   "outputs": [
    {
     "data": {
      "text/plain": [
       "Return      88.217709\n",
       "Strategy     1.390590\n",
       "dtype: float64"
      ]
     },
     "execution_count": 65,
     "metadata": {},
     "output_type": "execute_result"
    }
   ],
   "source": [
    "training_data[['Return', 'Strategy']].sum().apply(np.exp)"
   ]
  },
  {
   "cell_type": "markdown",
   "metadata": {},
   "source": [
    "### Plot strategy peformance in-sample"
   ]
  },
  {
   "cell_type": "code",
   "execution_count": 66,
   "metadata": {},
   "outputs": [
    {
     "data": {
      "image/png": "[encoded data removed]",
      "text/plain": [
       "<Figure size 720x432 with 1 Axes>"
      ]
     },
     "metadata": {
      "needs_background": "light"
     },
     "output_type": "display_data"
    }
   ],
   "source": [
    "training_data[['Strategy']].cumsum(\n",
    " ).apply(np.exp).plot(figsize=(10, 6));"
   ]
  },
  {
   "cell_type": "code",
   "execution_count": 67,
   "metadata": {},
   "outputs": [
    {
     "name": "stdout",
     "output_type": "stream",
     "text": [
      "61/61 [==============================] - 0s 6ms/step - loss: 0.7051 - accuracy: 0.4800\n"
     ]
    },
    {
     "data": {
      "text/plain": [
       "[0.7050814628601074, 0.47999998927116394]"
      ]
     },
     "execution_count": 67,
     "metadata": {},
     "output_type": "execute_result"
    }
   ],
   "source": [
    "model.evaluate(training_data_[cols], training_data['Direction'])"
   ]
  },
  {
   "cell_type": "code",
   "execution_count": 68,
   "metadata": {},
   "outputs": [],
   "source": [
    "pred = np.where(model.predict(test_data_[cols]) > 0.5, 1, 0)"
   ]
  },
  {
   "cell_type": "code",
   "execution_count": 69,
   "metadata": {},
   "outputs": [],
   "source": [
    "test_data['Prediction'] = np.where(pred > 0, 1, -1)"
   ]
  },
  {
   "cell_type": "code",
   "execution_count": 70,
   "metadata": {},
   "outputs": [
    {
     "data": {
      "text/plain": [
       " 1    228\n",
       "-1    185\n",
       "Name: Prediction, dtype: int64"
      ]
     },
     "execution_count": 70,
     "metadata": {},
     "output_type": "execute_result"
    }
   ],
   "source": [
    "test_data['Prediction'].value_counts()"
   ]
  },
  {
   "cell_type": "code",
   "execution_count": 71,
   "metadata": {},
   "outputs": [],
   "source": [
    "test_data['Strategy'] = (test_data['Prediction'] *\n",
    "test_data['Return'])"
   ]
  },
  {
   "cell_type": "code",
   "execution_count": 72,
   "metadata": {},
   "outputs": [
    {
     "data": {
      "text/plain": [
       "Return      1.629219\n",
       "Strategy    3.006221\n",
       "dtype: float64"
      ]
     },
     "execution_count": 72,
     "metadata": {},
     "output_type": "execute_result"
    }
   ],
   "source": [
    "test_data[['Return', 'Strategy']].sum().apply(np.exp)\n"
   ]
  },
  {
   "cell_type": "markdown",
   "metadata": {},
   "source": [
    "### Compare the strategy(out of sample) to the buy-and-hold returns of the underlying asset for the same period"
   ]
  },
  {
   "cell_type": "code",
   "execution_count": 73,
   "metadata": {},
   "outputs": [
    {
     "data": {
      "image/png": "[encoded data removed]",
      "text/plain": [
       "<Figure size 1152x432 with 1 Axes>"
      ]
     },
     "metadata": {
      "needs_background": "light"
     },
     "output_type": "display_data"
    }
   ],
   "source": [
    "test_data[['Return', 'Strategy']].cumsum(\n",
    " ).apply(np.exp).plot(figsize=(16, 6));"
   ]
  },
  {
   "cell_type": "code",
   "execution_count": 74,
   "metadata": {},
   "outputs": [
    {
     "name": "stdout",
     "output_type": "stream",
     "text": [
      "13/13 [==============================] - 0s 3ms/step - loss: 0.6970 - accuracy: 0.5351\n"
     ]
    },
    {
     "data": {
      "text/plain": [
       "[0.6969739198684692, 0.5351089835166931]"
      ]
     },
     "execution_count": 74,
     "metadata": {},
     "output_type": "execute_result"
    }
   ],
   "source": [
    "model.evaluate(test_data_[cols], test_data['Direction'])"
   ]
  }
 ],
 "metadata": {
  "kernelspec": {
   "display_name": "Python 3 (ipykernel)",
   "language": "python",
   "name": "python3"
  },
  "language_info": {
   "codemirror_mode": {
    "name": "ipython",
    "version": 3
   },
   "file_extension": ".py",
   "mimetype": "text/x-python",
   "name": "python",
   "nbconvert_exporter": "python",
   "pygments_lexer": "ipython3",
   "version": "3.8.12"
  }
 },
 "nbformat": 4,
 "nbformat_minor": 1
}